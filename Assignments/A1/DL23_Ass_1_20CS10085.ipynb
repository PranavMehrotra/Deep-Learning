{
  "cells": [
    {
      "cell_type": "markdown",
      "metadata": {
        "id": "FBKdMbwfvq-W"
      },
      "source": [
        "# About: Deep Learning '23 Assignment 1\n",
        "\n",
        "\n",
        "We will perform Image Classification task on the MNIST dataset which has 70,000 28*28 images labelled into 10 classes. \n",
        "\n",
        "**Total Marks: 60**\n",
        "\n",
        "\n",
        "**Fill these**\n",
        "\n",
        "Name: `Pranav Mehrotra`\n",
        "\n",
        "Roll Number: `20CS10085`\n",
        "\n",
        "**Instructions:**\n",
        "\n",
        "1. We have left code cells blank for you to fill up with appropriate code. Do not add any extra code cells. Strictly follow the format and fill up the cells with the correct code. Refer to cell comments for what to fill in that cell.\n",
        "\n",
        "2. *Do not* use any training frameworks like PyTorch Lightning. This assignment will test your ability to write custom training loops.\n",
        "\n",
        "3. Save the notebook with cell outputs of all cells. The cell outputs  will be used for evaluating your submission.\n",
        "\n",
        "\n"
      ]
    },
    {
      "cell_type": "code",
      "execution_count": 1,
      "metadata": {
        "id": "b7yol97nxLq3"
      },
      "outputs": [],
      "source": [
        "import torch\n",
        "import torch.nn as nn\n",
        "import random\n",
        "import numpy as np\n",
        "\n",
        "from torchvision import datasets, transforms \n",
        "from torch.utils.data import random_split, DataLoader\n",
        "\n",
        "## Add any other imports here\n",
        "import matplotlib.pyplot as plt"
      ]
    },
    {
      "cell_type": "code",
      "execution_count": 2,
      "metadata": {
        "id": "Lv07aCHK0IhG"
      },
      "outputs": [],
      "source": [
        "SEED=42\n",
        "torch.manual_seed(SEED)\n",
        "random.seed(SEED)\n",
        "np.random.seed(SEED)"
      ]
    },
    {
      "cell_type": "markdown",
      "metadata": {
        "id": "HU_56fBhx2H4"
      },
      "source": [
        "## Getting the data"
      ]
    },
    {
      "cell_type": "code",
      "execution_count": 3,
      "metadata": {
        "colab": {
          "base_uri": "https://localhost:8080/",
          "height": 455,
          "referenced_widgets": [
            "eb5940d2e60e4d95a6a9a334406d2542",
            "256b617f7a744bbb84a8755c220d2941",
            "caa35409ed0e4fba8c162840e5c0b9ac",
            "92729e85bfc84b789c9d87648793984a",
            "b190d9491bea46d389cc0fa729dfefad",
            "94c49ed306c04131a8ba8c96730f08d7",
            "6d365a5da16d4d65a02e0299afc77582",
            "1468bd4ed3454b15bb80246b5d065c37",
            "92f432a7a29b44f0ad30c930c24d901a",
            "1a0e384d9970438f9cd3aa6b8facd48f",
            "c1b9f25e3df84243b9f64622ade5993f",
            "239050c3fa284f65a21172df2dd0f18c",
            "7d53541966db497d97af90501bfe992c",
            "1a6bc0f2b3364b56876068106c25db6a",
            "391244d347754f54b62237497a80d0f6",
            "db5baedcfbb34fae9fd2b27df223355e",
            "c9bb4942ecec404da36c3480477c4fec",
            "0f143944a48f427ca89279b39ab56004",
            "40e9f437cb7146a7a770524960f72530",
            "53cc507835f245fb998f29486b35d03b",
            "bcb55703cf9d44c79d676c7c2c6c8049",
            "cde7fa09a8154b6e899044a3ed19a9e3",
            "d6b0d399b81b40789c5617fe52fd23cb",
            "47c7d4a78d9e443b87be3009ff69449d",
            "783bdd52248b45bbb101fc4603a01f1a",
            "f25568d51cce45f6abc2c32460b3b80e",
            "58a0e102f923475f968e608651773b53",
            "a595f601271843dab820d06b7e504273",
            "7cccf45609dc46f6ba26cfe517497c7d",
            "bf02c7a350fc4e6fad7518e1778b5d2e",
            "53245f1d2f174b528a6b01fa02208db7",
            "bba8282297354efb833a0da18a4e9d21",
            "9918e07800b04be5b5b6182bb4340150",
            "ebb63ceafc2541a2af5b6e203f17b3d4",
            "9a26c7dcff2b4b6492d35d6694e12dd6",
            "83ce916a8f2f4e30b978da8adf6696b5",
            "d51038c4d338402baa8e7d4e0853520a",
            "57d1df0fa12b4511ad29a9bc2f65230d",
            "d1241128616140678744cf41a530fb09",
            "4dbf0b4b4386434abd959ee5414c026d",
            "8dbee70194fc44268a3b2cfd7e786533",
            "1069fb0952a94904922ac37b7a60d934",
            "bc614329d12e4a0ea0734fb7d025fa5b",
            "ce2ef04a5e8e4318b20cfe4781d7d0b4"
          ]
        },
        "id": "CfV1pXYtyAfW",
        "outputId": "599a5cb0-ead9-4805-e2f3-28f2b029cb0e"
      },
      "outputs": [
        {
          "output_type": "stream",
          "name": "stdout",
          "text": [
            "Downloading http://yann.lecun.com/exdb/mnist/train-images-idx3-ubyte.gz\n",
            "Downloading http://yann.lecun.com/exdb/mnist/train-images-idx3-ubyte.gz to data/MNIST/raw/train-images-idx3-ubyte.gz\n"
          ]
        },
        {
          "output_type": "display_data",
          "data": {
            "text/plain": [
              "  0%|          | 0/9912422 [00:00<?, ?it/s]"
            ],
            "application/vnd.jupyter.widget-view+json": {
              "version_major": 2,
              "version_minor": 0,
              "model_id": "eb5940d2e60e4d95a6a9a334406d2542"
            }
          },
          "metadata": {}
        },
        {
          "output_type": "stream",
          "name": "stdout",
          "text": [
            "Extracting data/MNIST/raw/train-images-idx3-ubyte.gz to data/MNIST/raw\n",
            "\n",
            "Downloading http://yann.lecun.com/exdb/mnist/train-labels-idx1-ubyte.gz\n",
            "Downloading http://yann.lecun.com/exdb/mnist/train-labels-idx1-ubyte.gz to data/MNIST/raw/train-labels-idx1-ubyte.gz\n"
          ]
        },
        {
          "output_type": "display_data",
          "data": {
            "text/plain": [
              "  0%|          | 0/28881 [00:00<?, ?it/s]"
            ],
            "application/vnd.jupyter.widget-view+json": {
              "version_major": 2,
              "version_minor": 0,
              "model_id": "239050c3fa284f65a21172df2dd0f18c"
            }
          },
          "metadata": {}
        },
        {
          "output_type": "stream",
          "name": "stdout",
          "text": [
            "Extracting data/MNIST/raw/train-labels-idx1-ubyte.gz to data/MNIST/raw\n",
            "\n",
            "Downloading http://yann.lecun.com/exdb/mnist/t10k-images-idx3-ubyte.gz\n",
            "Downloading http://yann.lecun.com/exdb/mnist/t10k-images-idx3-ubyte.gz to data/MNIST/raw/t10k-images-idx3-ubyte.gz\n"
          ]
        },
        {
          "output_type": "display_data",
          "data": {
            "text/plain": [
              "  0%|          | 0/1648877 [00:00<?, ?it/s]"
            ],
            "application/vnd.jupyter.widget-view+json": {
              "version_major": 2,
              "version_minor": 0,
              "model_id": "d6b0d399b81b40789c5617fe52fd23cb"
            }
          },
          "metadata": {}
        },
        {
          "output_type": "stream",
          "name": "stdout",
          "text": [
            "Extracting data/MNIST/raw/t10k-images-idx3-ubyte.gz to data/MNIST/raw\n",
            "\n",
            "Downloading http://yann.lecun.com/exdb/mnist/t10k-labels-idx1-ubyte.gz\n",
            "Downloading http://yann.lecun.com/exdb/mnist/t10k-labels-idx1-ubyte.gz to data/MNIST/raw/t10k-labels-idx1-ubyte.gz\n"
          ]
        },
        {
          "output_type": "display_data",
          "data": {
            "text/plain": [
              "  0%|          | 0/4542 [00:00<?, ?it/s]"
            ],
            "application/vnd.jupyter.widget-view+json": {
              "version_major": 2,
              "version_minor": 0,
              "model_id": "ebb63ceafc2541a2af5b6e203f17b3d4"
            }
          },
          "metadata": {}
        },
        {
          "output_type": "stream",
          "name": "stdout",
          "text": [
            "Extracting data/MNIST/raw/t10k-labels-idx1-ubyte.gz to data/MNIST/raw\n",
            "\n",
            "50000 10000 10000\n"
          ]
        }
      ],
      "source": [
        "train_data = datasets.MNIST('data', train=True, download=True, transform=transforms.ToTensor())\n",
        "test_data = datasets.MNIST('data', train=False, download=True, transform=transforms.ToTensor())\n",
        "train, val = random_split(train_data, [50000, 10000], generator=torch.Generator().manual_seed(SEED))\n",
        "\n",
        "train_loader = DataLoader(train, batch_size=64, shuffle=True)\n",
        "val_loader = DataLoader(val, batch_size=64, shuffle=False)\n",
        "test_loader = DataLoader(test_data, batch_size=64, shuffle=False)\n",
        "\n",
        "print(len(train), len(val), len(test_data))\n"
      ]
    },
    {
      "cell_type": "markdown",
      "metadata": {
        "id": "4xqWpnwu0mzj"
      },
      "source": [
        "## Defining the Model [18 marks]\n",
        "\n",
        "You will define 3 models, with 2, 3, 4 hidden layers respectively. Lets call these models A, B, C. We will be studying the comparitive performance of these 3 models on this task.\n",
        "\n",
        "Use ReLU as the activation function for all three models. Later we will experiment with other activation functions as well."
      ]
    },
    {
      "cell_type": "markdown",
      "metadata": {
        "id": "30J_OmCoMm4S"
      },
      "source": [
        "### Model A\n",
        "\n",
        "Architecture:\n",
        "\n",
        "1. Input Layer \n",
        "2. Hidden Layer (Dimension Size - 64)\n",
        "3. Activation Function\n",
        "4. Hidden Layer (Dimension Size - 128)\n",
        "5. Activation Function\n",
        "6. Output Layer (Dimension Size = Number of Classes = 10)"
      ]
    },
    {
      "cell_type": "code",
      "execution_count": 4,
      "metadata": {
        "id": "WPGlwx0502pe"
      },
      "outputs": [],
      "source": [
        "# Model A Definition \n",
        "input_layer = 784 # 28x28\n",
        "hidden_layer_1 = 64\n",
        "hidden_layer_2 = 128\n",
        "output_layer = 10\n",
        "\n",
        "\n",
        "# Fill in appropriately while maintaining the name of the variable\n",
        "modelA = nn.Sequential(\n",
        "    nn.Linear(input_layer, hidden_layer_1),\n",
        "    nn.ReLU(),\n",
        "    nn.Linear(hidden_layer_1, hidden_layer_2),\n",
        "    nn.ReLU(),\n",
        "    nn.Linear(hidden_layer_2, output_layer)   \n",
        ")"
      ]
    },
    {
      "cell_type": "markdown",
      "metadata": {
        "id": "0K0nfqCvMqA9"
      },
      "source": [
        "### Model B\n",
        "\n",
        "\n",
        "Architecture:\n",
        "\n",
        "1. Input Layer \n",
        "2. Hidden Layer (Dimension Size - 64)\n",
        "3. Activation Function\n",
        "4. Hidden Layer (Dimension Size - 128)\n",
        "5. Activation Function\n",
        "6. Hidden Layer (Dimension Size - 256)\n",
        "7. Activation Function\n",
        "8. Output Layer (Dimension Size = Number of Classes = 10)"
      ]
    },
    {
      "cell_type": "code",
      "execution_count": 5,
      "metadata": {
        "id": "AD5W0AJ908tI"
      },
      "outputs": [],
      "source": [
        "# Model B Definiton\n",
        "input_layer = 784 # 28x28\n",
        "hidden_layer_1 = 64\n",
        "hidden_layer_2 = 128\n",
        "hidden_layer_3 = 256\n",
        "output_layer = 10\n",
        "\n",
        "\n",
        "# Use the same variable name\n",
        "modelB = nn.Sequential(\n",
        "    nn.Linear(input_layer, hidden_layer_1),\n",
        "    nn.ReLU(),\n",
        "    nn.Linear(hidden_layer_1, hidden_layer_2),\n",
        "    nn.ReLU(),\n",
        "    nn.Linear(hidden_layer_2, hidden_layer_3),\n",
        "    nn.ReLU(),\n",
        "    nn.Linear(hidden_layer_3, output_layer)  \n",
        ")"
      ]
    },
    {
      "cell_type": "markdown",
      "metadata": {
        "id": "TPDoGu9mMr_x"
      },
      "source": [
        "### Model C\n",
        "\n",
        "\n",
        "Architecture\n",
        "\n",
        "1. Input Layer \n",
        "2. Hidden Layer (Dimension Size - 64)\n",
        "3. Activation Function\n",
        "4. Hidden Layer (Dimension Size - 128)\n",
        "5. Activation Function\n",
        "6. Hidden Layer (Dimension Size - 256)\n",
        "7. Activation Function\n",
        "8. Hidden Layer (Dimension Size - 512)\n",
        "9. Activation Function\n",
        "10. Output Layer (Dimension Size = Number of Classes = 10)"
      ]
    },
    {
      "cell_type": "code",
      "execution_count": 6,
      "metadata": {
        "id": "FAaOMMjY1Jna"
      },
      "outputs": [],
      "source": [
        "# Model C Definiton\n",
        "input_layer = 784 # 28x28\n",
        "hidden_layer_1 = 64\n",
        "hidden_layer_2 = 128\n",
        "hidden_layer_3 = 256\n",
        "hidden_layer_4 = 512\n",
        "output_layer = 10\n",
        "\n",
        "\n",
        "\n",
        "# Use the same variable name\n",
        "modelC = nn.Sequential(\n",
        "    nn.Linear(input_layer, hidden_layer_1),\n",
        "    nn.ReLU(),\n",
        "    nn.Linear(hidden_layer_1, hidden_layer_2),\n",
        "    nn.ReLU(),\n",
        "    nn.Linear(hidden_layer_2, hidden_layer_3),\n",
        "    nn.ReLU(),\n",
        "    nn.Linear(hidden_layer_3, hidden_layer_4),\n",
        "    nn.ReLU(),\n",
        "    nn.Linear(hidden_layer_4, output_layer)\n",
        "    \n",
        ")"
      ]
    },
    {
      "cell_type": "markdown",
      "metadata": {
        "id": "EFfgQVEz1Oqx"
      },
      "source": [
        "## Loss Function & Optimizer [2 marks]\n",
        "\n",
        "* Loss Function: Cross Entropy Loss\n",
        "* Optimizer : Adam\n",
        "\n",
        "Use PyTorch Library versions for these two."
      ]
    },
    {
      "cell_type": "code",
      "execution_count": 7,
      "metadata": {
        "id": "-z7ogUqL1WMV"
      },
      "outputs": [],
      "source": [
        "# Use the same variable names\n",
        "criterion = nn.CrossEntropyLoss()\n",
        "def get_adam_optimizer(model, learning_rate=0.01):\n",
        "    return torch.optim.Adam(model.parameters(), lr=learning_rate)"
      ]
    },
    {
      "cell_type": "markdown",
      "metadata": {
        "id": "OLnwW-h31oJa"
      },
      "source": [
        "## Training Loop [30 marks]\n",
        "\n",
        "We give you the freedom to choose Hyperparameters like learing rate, number of epochs etc, but take care to use the **same** hyperparameters for all themodels. Also clearly state the hyperparameters you have chosen\n",
        "\n",
        "For each model, You need to report these metrics: Train Loss, Val Loss, Train Accuracy, Val Accuracy at the end of each epoch.\n",
        "\n",
        "Also plot the graphs of the following (in separate cells)\n",
        "1. Train Loss & Val Loss V/s Epoch\n",
        "2. Train Accuracy & Val Accuracy V/s Epoch"
      ]
    },
    {
      "cell_type": "code",
      "execution_count": 8,
      "metadata": {
        "id": "3ZVpEI-N8L5X"
      },
      "outputs": [],
      "source": [
        "# Define the hyperparameters (same for all 3 models) here\n",
        "learning_rate = 0.01\n",
        "number_of_epochs = 15"
      ]
    },
    {
      "cell_type": "markdown",
      "metadata": {
        "id": "UMdreKgU24od"
      },
      "source": [
        "Model A \n",
        "\n"
      ]
    },
    {
      "cell_type": "code",
      "execution_count": 9,
      "metadata": {
        "colab": {
          "base_uri": "https://localhost:8080/"
        },
        "id": "OYqXyrGxTusJ",
        "outputId": "f175f44a-7265-44e7-e88d-90921c0b120f"
      },
      "outputs": [
        {
          "output_type": "stream",
          "name": "stdout",
          "text": [
            "cuda:0\n",
            "Iteration no.:   0. Training Set Loss: 0.2687,  Validation Set Loss: 0.1760\n",
            "Iteration no.:   0. Training Set Accuracy: 95.9000,  Validation Set Accuracy: 95.1000\n",
            "---------------------------------------------------------------------------------\n",
            "Iteration no.:   1. Training Set Loss: 0.1584,  Validation Set Loss: 0.1744\n",
            "Iteration no.:   1. Training Set Accuracy: 96.4000,  Validation Set Accuracy: 95.4500\n",
            "---------------------------------------------------------------------------------\n",
            "Iteration no.:   2. Training Set Loss: 0.1317,  Validation Set Loss: 0.1521\n",
            "Iteration no.:   2. Training Set Accuracy: 96.8580,  Validation Set Accuracy: 96.0100\n",
            "---------------------------------------------------------------------------------\n",
            "Iteration no.:   3. Training Set Loss: 0.1204,  Validation Set Loss: 0.1733\n",
            "Iteration no.:   3. Training Set Accuracy: 97.4720,  Validation Set Accuracy: 96.1500\n",
            "---------------------------------------------------------------------------------\n",
            "Iteration no.:   4. Training Set Loss: 0.1173,  Validation Set Loss: 0.1643\n",
            "Iteration no.:   4. Training Set Accuracy: 97.5220,  Validation Set Accuracy: 96.3600\n",
            "---------------------------------------------------------------------------------\n",
            "Iteration no.:   5. Training Set Loss: 0.1009,  Validation Set Loss: 0.1752\n",
            "Iteration no.:   5. Training Set Accuracy: 97.5020,  Validation Set Accuracy: 95.9700\n",
            "---------------------------------------------------------------------------------\n",
            "Iteration no.:   6. Training Set Loss: 0.1078,  Validation Set Loss: 0.1652\n",
            "Iteration no.:   6. Training Set Accuracy: 97.4620,  Validation Set Accuracy: 96.0900\n",
            "---------------------------------------------------------------------------------\n",
            "Iteration no.:   7. Training Set Loss: 0.0969,  Validation Set Loss: 0.1584\n",
            "Iteration no.:   7. Training Set Accuracy: 98.0700,  Validation Set Accuracy: 96.2400\n",
            "---------------------------------------------------------------------------------\n",
            "Iteration no.:   8. Training Set Loss: 0.0901,  Validation Set Loss: 0.1752\n",
            "Iteration no.:   8. Training Set Accuracy: 98.1160,  Validation Set Accuracy: 96.4800\n",
            "---------------------------------------------------------------------------------\n",
            "Iteration no.:   9. Training Set Loss: 0.0893,  Validation Set Loss: 0.1798\n",
            "Iteration no.:   9. Training Set Accuracy: 97.8800,  Validation Set Accuracy: 96.1100\n",
            "---------------------------------------------------------------------------------\n",
            "Iteration no.:  10. Training Set Loss: 0.0805,  Validation Set Loss: 0.1930\n",
            "Iteration no.:  10. Training Set Accuracy: 97.4460,  Validation Set Accuracy: 95.7200\n",
            "---------------------------------------------------------------------------------\n",
            "Iteration no.:  11. Training Set Loss: 0.0757,  Validation Set Loss: 0.2054\n",
            "Iteration no.:  11. Training Set Accuracy: 97.5800,  Validation Set Accuracy: 95.8900\n",
            "---------------------------------------------------------------------------------\n",
            "Iteration no.:  12. Training Set Loss: 0.0718,  Validation Set Loss: 0.2009\n",
            "Iteration no.:  12. Training Set Accuracy: 98.5440,  Validation Set Accuracy: 96.4700\n",
            "---------------------------------------------------------------------------------\n",
            "Iteration no.:  13. Training Set Loss: 0.0713,  Validation Set Loss: 0.2157\n",
            "Iteration no.:  13. Training Set Accuracy: 98.2080,  Validation Set Accuracy: 96.3000\n",
            "---------------------------------------------------------------------------------\n",
            "Iteration no.:  14. Training Set Loss: 0.0794,  Validation Set Loss: 0.2164\n",
            "Iteration no.:  14. Training Set Accuracy: 97.9040,  Validation Set Accuracy: 95.9300\n",
            "---------------------------------------------------------------------------------\n"
          ]
        }
      ],
      "source": [
        "# Function to calculate accuracy\n",
        "def calc_accuracy(batch_data, model, dataset):\n",
        "  with torch.no_grad():\n",
        "    num_corerct = 0 # Initialize number of correct matches\n",
        "    for i, (image_data, correct_label) in enumerate(batch_data):  # Iterate over the dataset\n",
        "      image_data, correct_label = image_data.to(device), correct_label.to(device) # Move to device\n",
        "      img = image_data.reshape(image_data.shape[0], -1) # Flatten image\n",
        "      preds = model(img) # Apply the model\n",
        "      _, pred_val = torch.max(preds, dim=1)  # Get the maximum prediction value\n",
        "      num_corerct += torch.sum(pred_val == correct_label).item() # Update number of corerct matches\n",
        "    return (100 * num_corerct / len(dataset)) # Return Accuracy\n",
        "\n",
        "def train_model(model,device):\n",
        "  optimizer = get_adam_optimizer(model, learning_rate)\n",
        "\n",
        "  # Lists to store the loss and accuracy of the model\n",
        "  epoch_losses = []\n",
        "  validation_losses = []\n",
        "  epoch_accuracies = []\n",
        "  validation_accuracies = []\n",
        "\n",
        "  for epoch in range(number_of_epochs):\n",
        "      loss_epoch = 0\n",
        "      for i, (image_data, correct_labels) in enumerate(train_loader):\n",
        "          image_data, correct_labels = image_data.to(device), correct_labels.to(device)\n",
        "\n",
        "          # Clear gradients w.r.t. parameters\n",
        "          optimizer.zero_grad()\n",
        "\n",
        "          # Flatten image\n",
        "          img = image_data.reshape(image_data.shape[0], -1)\n",
        "\n",
        "          # Forward pass to get output\n",
        "          outputs = model(img)\n",
        "\n",
        "          # Calculate Loss: cross entropy loss\n",
        "          loss = criterion(outputs, correct_labels)\n",
        "\n",
        "          # Calculating gradients for parameters\n",
        "          loss.backward()\n",
        "          loss_epoch += loss.item()\n",
        "\n",
        "          # Updating parameters in the optimizer in one step\n",
        "          optimizer.step()\n",
        "\n",
        "      # Append the Training loss and accuracy after every epoch\n",
        "      epoch_accuracies.append(calc_accuracy(train_loader, model, train))\n",
        "      epoch_losses.append(loss_epoch / len(train_loader))\n",
        "    \n",
        "      # Intialising Validation loss\n",
        "      loss_epoch_val = 0\n",
        "\n",
        "      # Disabling gradient calculation for validation\n",
        "      with torch.no_grad():\n",
        "        for i, (image_data, correct_labels) in enumerate(val_loader):\n",
        "            # Move to device\n",
        "            image_data, correct_labels = image_data.to(device), correct_labels.to(device)\n",
        "            # Flatten image\n",
        "            img = image_data.reshape(image_data.shape[0], -1)\n",
        "          \n",
        "            # Forward pass only to get output\n",
        "            predictions = model(img)\n",
        "            loss = criterion(predictions, correct_labels) # Calculate Validation loss\n",
        "            loss_epoch_val += loss.item() # Update Validation loss\n",
        "\n",
        "        # Append the Validation loss and accuracy after every epoch  \n",
        "        validation_losses.append(loss_epoch_val / len(val_loader))\n",
        "        validation_accuracies.append(calc_accuracy(val_loader, model, val))\n",
        "      \n",
        "      print(f\"Iteration no.: {epoch:3}. Training Set Loss: {epoch_losses[-1]:.4f},  Validation Set Loss: {validation_losses[-1]:.4f}\")\n",
        "      print(f\"Iteration no.: {epoch:3}. Training Set Accuracy: {epoch_accuracies[-1]:.4f},  Validation Set Accuracy: {validation_accuracies[-1]:.4f}\")\n",
        "      print(\"---------------------------------------------------------------------------------\")\n",
        "  return epoch_losses, validation_losses, epoch_accuracies, validation_accuracies\n",
        "device = torch.device('cuda:0' if torch.cuda.is_available() else 'cpu') #train on cuda if available\n",
        "print(device)\n",
        "\n",
        "# import time\n",
        "# start = time.time()\n",
        "model = modelA\n",
        "model.to(device)\n",
        "epoch_losses, validation_losses, epoch_accuracies, validation_accuracies = train_model(model,device)\n",
        "# end = time.time()\n",
        "# print(f\"Training took {end-start} seconds for {number_of_epochs} epochs\")"
      ]
    },
    {
      "cell_type": "code",
      "execution_count": 10,
      "metadata": {
        "colab": {
          "base_uri": "https://localhost:8080/",
          "height": 513
        },
        "id": "Gk8Atveg2nPj",
        "outputId": "407968ae-b378-494c-9a57-aec403e39353"
      },
      "outputs": [
        {
          "output_type": "display_data",
          "data": {
            "text/plain": [
              "<Figure size 1440x576 with 1 Axes>"
            ],
            "image/png": "[encoded data removed]"
          },
          "metadata": {
            "needs_background": "light"
          }
        }
      ],
      "source": [
        "# Plot Graph of Train & Val Loss vs Epoch (together in same plot) for model A\n",
        "\n",
        "plt.rcParams[\"figure.figsize\"] = (20,8)\n",
        "\n",
        "plt.plot(epoch_losses)\n",
        "plt.plot(validation_losses)\n",
        "plt.xlabel('Epoch Interation')\n",
        "plt.ylabel('Value of Loss')\n",
        "plt.legend(['Training Data','Validation Data'])\n",
        "plt.title('Train vs Validation Loss')\n",
        "plt.show()"
      ]
    },
    {
      "cell_type": "code",
      "execution_count": 11,
      "metadata": {
        "colab": {
          "base_uri": "https://localhost:8080/",
          "height": 513
        },
        "id": "VGTWAn_22n0m",
        "outputId": "09e87c6c-d115-4d80-e4cc-bdb1f17e30b2"
      },
      "outputs": [
        {
          "output_type": "display_data",
          "data": {
            "text/plain": [
              "<Figure size 1440x576 with 1 Axes>"
            ],
            "image/png": "[encoded data removed]"
          },
          "metadata": {
            "needs_background": "light"
          }
        }
      ],
      "source": [
        "# Plot Graph of Train & Val Accuracy vs Epoch (together in same plot) for model A\n",
        "plt.rcParams[\"figure.figsize\"] = (20,8)\n",
        "\n",
        "plt.plot(epoch_accuracies)\n",
        "plt.plot(validation_accuracies)\n",
        "plt.xlabel('Epoch number')\n",
        "plt.ylabel('Accuracy')\n",
        "plt.legend(['Training Set','Validation Set'])\n",
        "plt.title('Training vs Validation Accuracy')\n",
        "plt.show()\n",
        "acc_A = validation_accuracies[-1] # Store the Validation accuracy of last iteration of model A"
      ]
    },
    {
      "cell_type": "markdown",
      "metadata": {
        "id": "X-kUp7pk28n-"
      },
      "source": [
        "### Model B\n"
      ]
    },
    {
      "cell_type": "code",
      "execution_count": 12,
      "metadata": {
        "colab": {
          "base_uri": "https://localhost:8080/"
        },
        "id": "jCmX8PqE22XP",
        "outputId": "c51f4424-e199-43db-957f-bab4a0c36a1f"
      },
      "outputs": [
        {
          "output_type": "stream",
          "name": "stdout",
          "text": [
            "Iteration no.:   0. Training Set Loss: 0.3222,  Validation Set Loss: 0.3547\n",
            "Iteration no.:   0. Training Set Accuracy: 90.9840,  Validation Set Accuracy: 90.2400\n",
            "---------------------------------------------------------------------------------\n",
            "Iteration no.:   1. Training Set Loss: 0.1955,  Validation Set Loss: 0.1933\n",
            "Iteration no.:   1. Training Set Accuracy: 95.6940,  Validation Set Accuracy: 95.1000\n",
            "---------------------------------------------------------------------------------\n",
            "Iteration no.:   2. Training Set Loss: 0.1684,  Validation Set Loss: 0.1966\n",
            "Iteration no.:   2. Training Set Accuracy: 95.6500,  Validation Set Accuracy: 94.6800\n",
            "---------------------------------------------------------------------------------\n",
            "Iteration no.:   3. Training Set Loss: 0.1430,  Validation Set Loss: 0.1822\n",
            "Iteration no.:   3. Training Set Accuracy: 96.8720,  Validation Set Accuracy: 95.5200\n",
            "---------------------------------------------------------------------------------\n",
            "Iteration no.:   4. Training Set Loss: 0.1408,  Validation Set Loss: 0.1892\n",
            "Iteration no.:   4. Training Set Accuracy: 96.3840,  Validation Set Accuracy: 95.4000\n",
            "---------------------------------------------------------------------------------\n",
            "Iteration no.:   5. Training Set Loss: 0.1308,  Validation Set Loss: 0.1829\n",
            "Iteration no.:   5. Training Set Accuracy: 96.8020,  Validation Set Accuracy: 95.4800\n",
            "---------------------------------------------------------------------------------\n",
            "Iteration no.:   6. Training Set Loss: 0.1147,  Validation Set Loss: 0.2252\n",
            "Iteration no.:   6. Training Set Accuracy: 96.6500,  Validation Set Accuracy: 95.1800\n",
            "---------------------------------------------------------------------------------\n",
            "Iteration no.:   7. Training Set Loss: 0.1123,  Validation Set Loss: 0.1729\n",
            "Iteration no.:   7. Training Set Accuracy: 97.6180,  Validation Set Accuracy: 96.2600\n",
            "---------------------------------------------------------------------------------\n",
            "Iteration no.:   8. Training Set Loss: 0.1107,  Validation Set Loss: 0.2004\n",
            "Iteration no.:   8. Training Set Accuracy: 97.5760,  Validation Set Accuracy: 96.0700\n",
            "---------------------------------------------------------------------------------\n",
            "Iteration no.:   9. Training Set Loss: 0.1064,  Validation Set Loss: 0.1785\n",
            "Iteration no.:   9. Training Set Accuracy: 97.5000,  Validation Set Accuracy: 95.9500\n",
            "---------------------------------------------------------------------------------\n",
            "Iteration no.:  10. Training Set Loss: 0.1056,  Validation Set Loss: 0.1982\n",
            "Iteration no.:  10. Training Set Accuracy: 97.0980,  Validation Set Accuracy: 95.3600\n",
            "---------------------------------------------------------------------------------\n",
            "Iteration no.:  11. Training Set Loss: 0.0996,  Validation Set Loss: 0.1831\n",
            "Iteration no.:  11. Training Set Accuracy: 97.9640,  Validation Set Accuracy: 96.3100\n",
            "---------------------------------------------------------------------------------\n",
            "Iteration no.:  12. Training Set Loss: 0.0912,  Validation Set Loss: 0.1900\n",
            "Iteration no.:  12. Training Set Accuracy: 97.6820,  Validation Set Accuracy: 95.7000\n",
            "---------------------------------------------------------------------------------\n",
            "Iteration no.:  13. Training Set Loss: 0.0816,  Validation Set Loss: 0.1813\n",
            "Iteration no.:  13. Training Set Accuracy: 98.0300,  Validation Set Accuracy: 96.2700\n",
            "---------------------------------------------------------------------------------\n",
            "Iteration no.:  14. Training Set Loss: 0.0908,  Validation Set Loss: 0.1753\n",
            "Iteration no.:  14. Training Set Accuracy: 98.1760,  Validation Set Accuracy: 96.3500\n",
            "---------------------------------------------------------------------------------\n"
          ]
        }
      ],
      "source": [
        "#training loop of model B\n",
        "model = modelB\n",
        "model.to(device)\n",
        "epoch_losses, validation_losses, epoch_accuracies, validation_accuracies = train_model(model,device)"
      ]
    },
    {
      "cell_type": "code",
      "execution_count": 13,
      "metadata": {
        "colab": {
          "base_uri": "https://localhost:8080/",
          "height": 513
        },
        "id": "9pfLjJrI22XQ",
        "outputId": "aa875b4e-78a9-4674-e383-3fe3131570c5"
      },
      "outputs": [
        {
          "output_type": "display_data",
          "data": {
            "text/plain": [
              "<Figure size 1440x576 with 1 Axes>"
            ],
            "image/png": "[encoded data removed]"
          },
          "metadata": {
            "needs_background": "light"
          }
        }
      ],
      "source": [
        "# Plot Graph of Train & Val Loss vs Epoch (together in same plot) for model B\n",
        "\n",
        "plt.rcParams[\"figure.figsize\"] = (20,8)\n",
        "\n",
        "plt.plot(epoch_losses)\n",
        "plt.plot(validation_losses)\n",
        "plt.xlabel('Epoch Interation')\n",
        "plt.ylabel('Value of Loss')\n",
        "plt.legend(['Training Data','Validation Data'])\n",
        "plt.title('Train vs Validation Loss')\n",
        "plt.show()"
      ]
    },
    {
      "cell_type": "code",
      "execution_count": 14,
      "metadata": {
        "colab": {
          "base_uri": "https://localhost:8080/",
          "height": 513
        },
        "id": "KOy6REpK22XQ",
        "outputId": "9bca2f98-f69d-4e30-cf65-432c639c7899"
      },
      "outputs": [
        {
          "output_type": "display_data",
          "data": {
            "text/plain": [
              "<Figure size 1440x576 with 1 Axes>"
            ],
            "image/png": "[encoded data removed]"
          },
          "metadata": {
            "needs_background": "light"
          }
        }
      ],
      "source": [
        "# Plot Graph of Train & Val Accuracy vs Epoch (together in same plot) for model B\n",
        "plt.rcParams[\"figure.figsize\"] = (20,8)\n",
        "\n",
        "plt.plot(epoch_accuracies)\n",
        "plt.plot(validation_accuracies)\n",
        "plt.xlabel('Epoch number')\n",
        "plt.ylabel('Accuracy')\n",
        "plt.legend(['Training Set','Validation Set'])\n",
        "plt.title('Training vs Validation Accuracy')\n",
        "plt.show()\n",
        "acc_B = validation_accuracies[-1] # Store the Validation accuracy of last iteration of model B"
      ]
    },
    {
      "cell_type": "markdown",
      "metadata": {
        "id": "4JslKXgq3AUT"
      },
      "source": [
        "### Model C\n"
      ]
    },
    {
      "cell_type": "code",
      "execution_count": 15,
      "metadata": {
        "colab": {
          "base_uri": "https://localhost:8080/"
        },
        "id": "2m3w2F5J22mq",
        "outputId": "3237767b-75a7-4458-bdaa-c78260497f96"
      },
      "outputs": [
        {
          "output_type": "stream",
          "name": "stdout",
          "text": [
            "Iteration no.:   0. Training Set Loss: 0.3799,  Validation Set Loss: 0.2709\n",
            "Iteration no.:   0. Training Set Accuracy: 94.1000,  Validation Set Accuracy: 93.3200\n",
            "---------------------------------------------------------------------------------\n",
            "Iteration no.:   1. Training Set Loss: 0.2426,  Validation Set Loss: 0.3225\n",
            "Iteration no.:   1. Training Set Accuracy: 94.3480,  Validation Set Accuracy: 93.3100\n",
            "---------------------------------------------------------------------------------\n",
            "Iteration no.:   2. Training Set Loss: 0.2084,  Validation Set Loss: 0.2105\n",
            "Iteration no.:   2. Training Set Accuracy: 96.0320,  Validation Set Accuracy: 94.5700\n",
            "---------------------------------------------------------------------------------\n",
            "Iteration no.:   3. Training Set Loss: 0.1827,  Validation Set Loss: 0.2125\n",
            "Iteration no.:   3. Training Set Accuracy: 95.6340,  Validation Set Accuracy: 94.3700\n",
            "---------------------------------------------------------------------------------\n",
            "Iteration no.:   4. Training Set Loss: 0.1674,  Validation Set Loss: 0.2008\n",
            "Iteration no.:   4. Training Set Accuracy: 96.3080,  Validation Set Accuracy: 94.8700\n",
            "---------------------------------------------------------------------------------\n",
            "Iteration no.:   5. Training Set Loss: 0.1557,  Validation Set Loss: 0.1975\n",
            "Iteration no.:   5. Training Set Accuracy: 96.2320,  Validation Set Accuracy: 95.1800\n",
            "---------------------------------------------------------------------------------\n",
            "Iteration no.:   6. Training Set Loss: 0.1468,  Validation Set Loss: 0.2177\n",
            "Iteration no.:   6. Training Set Accuracy: 96.3480,  Validation Set Accuracy: 94.8600\n",
            "---------------------------------------------------------------------------------\n",
            "Iteration no.:   7. Training Set Loss: 0.1580,  Validation Set Loss: 0.1950\n",
            "Iteration no.:   7. Training Set Accuracy: 96.9160,  Validation Set Accuracy: 95.3500\n",
            "---------------------------------------------------------------------------------\n",
            "Iteration no.:   8. Training Set Loss: 0.1431,  Validation Set Loss: 0.2035\n",
            "Iteration no.:   8. Training Set Accuracy: 96.8860,  Validation Set Accuracy: 95.2500\n",
            "---------------------------------------------------------------------------------\n",
            "Iteration no.:   9. Training Set Loss: 0.1462,  Validation Set Loss: 0.2086\n",
            "Iteration no.:   9. Training Set Accuracy: 96.8760,  Validation Set Accuracy: 95.4300\n",
            "---------------------------------------------------------------------------------\n",
            "Iteration no.:  10. Training Set Loss: 0.1293,  Validation Set Loss: 0.2624\n",
            "Iteration no.:  10. Training Set Accuracy: 96.6040,  Validation Set Accuracy: 95.2100\n",
            "---------------------------------------------------------------------------------\n",
            "Iteration no.:  11. Training Set Loss: 0.1352,  Validation Set Loss: 0.2202\n",
            "Iteration no.:  11. Training Set Accuracy: 96.6600,  Validation Set Accuracy: 95.0300\n",
            "---------------------------------------------------------------------------------\n",
            "Iteration no.:  12. Training Set Loss: 0.1326,  Validation Set Loss: 0.1988\n",
            "Iteration no.:  12. Training Set Accuracy: 97.5560,  Validation Set Accuracy: 95.6500\n",
            "---------------------------------------------------------------------------------\n",
            "Iteration no.:  13. Training Set Loss: 0.1268,  Validation Set Loss: 0.1948\n",
            "Iteration no.:  13. Training Set Accuracy: 97.6800,  Validation Set Accuracy: 95.8400\n",
            "---------------------------------------------------------------------------------\n",
            "Iteration no.:  14. Training Set Loss: 0.1075,  Validation Set Loss: 0.2578\n",
            "Iteration no.:  14. Training Set Accuracy: 96.7720,  Validation Set Accuracy: 94.8600\n",
            "---------------------------------------------------------------------------------\n"
          ]
        }
      ],
      "source": [
        "#training loop of model C\n",
        "model = modelC\n",
        "model.to(device)\n",
        "epoch_losses, validation_losses, epoch_accuracies, validation_accuracies = train_model(model,device)"
      ]
    },
    {
      "cell_type": "code",
      "execution_count": 16,
      "metadata": {
        "colab": {
          "base_uri": "https://localhost:8080/",
          "height": 513
        },
        "id": "eN5XtgCl22mq",
        "outputId": "1243e2b4-f524-44b6-886b-bfd232e536f3"
      },
      "outputs": [
        {
          "output_type": "display_data",
          "data": {
            "text/plain": [
              "<Figure size 1440x576 with 1 Axes>"
            ],
            "image/png": "[encoded data removed]"
          },
          "metadata": {
            "needs_background": "light"
          }
        }
      ],
      "source": [
        "# Plot Graph of Train & Val Loss vs Epoch (together in same plot) for model C\n",
        "\n",
        "plt.rcParams[\"figure.figsize\"] = (20,8)\n",
        "\n",
        "plt.plot(epoch_losses)\n",
        "plt.plot(validation_losses)\n",
        "plt.xlabel('Epoch Interation')\n",
        "plt.ylabel('Value of Loss')\n",
        "plt.legend(['Training Data','Validation Data'])\n",
        "plt.title('Train vs Validation Loss')\n",
        "plt.show()"
      ]
    },
    {
      "cell_type": "code",
      "execution_count": 17,
      "metadata": {
        "colab": {
          "base_uri": "https://localhost:8080/",
          "height": 513
        },
        "id": "xwOen7-V22mr",
        "outputId": "18ea1c26-8438-4897-a171-7ff581fbf4b0"
      },
      "outputs": [
        {
          "output_type": "display_data",
          "data": {
            "text/plain": [
              "<Figure size 1440x576 with 1 Axes>"
            ],
            "image/png": "[encoded data removed]"
          },
          "metadata": {
            "needs_background": "light"
          }
        }
      ],
      "source": [
        "# Plot Graph of Train & Val Accuracy vs Epoch (together in same plot) for model C\n",
        "plt.rcParams[\"figure.figsize\"] = (20,8)\n",
        "\n",
        "plt.plot(epoch_accuracies)\n",
        "plt.plot(validation_accuracies)\n",
        "plt.xlabel('Epoch number')\n",
        "plt.ylabel('Accuracy')\n",
        "plt.legend(['Training Set','Validation Set'])\n",
        "plt.title('Training vs Validation Accuracy')\n",
        "plt.show()\n",
        "acc_C = validation_accuracies[-1] # Store the Validation accuracy of last iteration of model C"
      ]
    },
    {
      "cell_type": "markdown",
      "metadata": {
        "id": "AZuT5E_r3LbK"
      },
      "source": [
        "## Choosing a Activation Function [10 marks]\n",
        "\n",
        "Based on the best performing model you found above, define 2 more models with these 2 activation functions (1 activation function is used throughout the model definiation). Use these Activation funcitons \n",
        "\n",
        "\n",
        "*   Tanh\n",
        "*   LeakyRELU"
      ]
    },
    {
      "cell_type": "code",
      "execution_count": 18,
      "metadata": {
        "colab": {
          "base_uri": "https://localhost:8080/"
        },
        "id": "uhAK1dvg3vkf",
        "outputId": "5087cf0e-3135-4309-d007-0e7e0d81516a"
      },
      "outputs": [
        {
          "output_type": "stream",
          "name": "stdout",
          "text": [
            "Sequential(\n",
            "  (0): Linear(in_features=784, out_features=64, bias=True)\n",
            "  (1): LeakyReLU(negative_slope=0.01)\n",
            "  (2): Linear(in_features=64, out_features=128, bias=True)\n",
            "  (3): LeakyReLU(negative_slope=0.01)\n",
            "  (4): Linear(in_features=128, out_features=256, bias=True)\n",
            "  (5): LeakyReLU(negative_slope=0.01)\n",
            "  (6): Linear(in_features=256, out_features=10, bias=True)\n",
            ")\n",
            "Sequential(\n",
            "  (0): Linear(in_features=784, out_features=64, bias=True)\n",
            "  (1): Tanh()\n",
            "  (2): Linear(in_features=64, out_features=128, bias=True)\n",
            "  (3): Tanh()\n",
            "  (4): Linear(in_features=128, out_features=256, bias=True)\n",
            "  (5): Tanh()\n",
            "  (6): Linear(in_features=256, out_features=10, bias=True)\n",
            ")\n"
          ]
        }
      ],
      "source": [
        "acc = [acc_A, acc_B, acc_C]\n",
        "mod = [modelA, modelB, modelC]\n",
        "max_value = max(acc)\n",
        "model_relu = mod[acc.index(max_value)]\n",
        "input_layer = 784 # 28x28\n",
        "hidden_layer_1 = 64\n",
        "hidden_layer_2 = 128\n",
        "hidden_layer_3 = 256\n",
        "hidden_layer_4 = 512\n",
        "output_layer = 10\n",
        "\n",
        "# Leaky ReLU model definiton\n",
        "\n",
        "# Tanh model definition\n",
        "\n",
        "\n",
        "# Maintain these variable names\n",
        "if model_relu== modelA:\n",
        "  model_lrelu = nn.Sequential(\n",
        "    nn.Linear(input_layer, hidden_layer_1),\n",
        "    nn.LeakyReLU(),\n",
        "    nn.Linear(hidden_layer_1, hidden_layer_2),\n",
        "    nn.LeakyReLU(),\n",
        "    nn.Linear(hidden_layer_2, output_layer)\n",
        "    )\n",
        "  model_tanh = nn.Sequential(\n",
        "    nn.Linear(input_layer, hidden_layer_1),\n",
        "    nn.Tanh(),\n",
        "    nn.Linear(hidden_layer_1, hidden_layer_2),\n",
        "    nn.Tanh(),\n",
        "    nn.Linear(hidden_layer_2, output_layer)\n",
        "  )\n",
        "elif model_relu==modelB:\n",
        "  model_lrelu = nn.Sequential(\n",
        "    nn.Linear(input_layer, hidden_layer_1),\n",
        "    nn.LeakyReLU(),\n",
        "    nn.Linear(hidden_layer_1, hidden_layer_2),\n",
        "    nn.LeakyReLU(),\n",
        "    nn.Linear(hidden_layer_2, hidden_layer_3),\n",
        "    nn.LeakyReLU(),\n",
        "    nn.Linear(hidden_layer_3, output_layer)\n",
        "  )\n",
        "  model_tanh = nn.Sequential(\n",
        "    nn.Linear(input_layer, hidden_layer_1),\n",
        "    nn.Tanh(),\n",
        "    nn.Linear(hidden_layer_1, hidden_layer_2),\n",
        "    nn.Tanh(),\n",
        "    nn.Linear(hidden_layer_2, hidden_layer_3),\n",
        "    nn.Tanh(),\n",
        "    nn.Linear(hidden_layer_3, output_layer)\n",
        "  )\n",
        "else:\n",
        "  model_lrelu = nn.Sequential(\n",
        "    nn.Linear(input_layer, hidden_layer_1),\n",
        "    nn.LeakyReLU(),\n",
        "    nn.Linear(hidden_layer_1, hidden_layer_2),\n",
        "    nn.LeakyReLU(),\n",
        "    nn.Linear(hidden_layer_2, hidden_layer_3),\n",
        "    nn.LeakyReLU(),\n",
        "    nn.Linear(hidden_layer_3, hidden_layer_4),\n",
        "    nn.LeakyReLU(),\n",
        "    nn.Linear(hidden_layer_4, output_layer)\n",
        "  )\n",
        "  model_tanh = nn.Sequential(\n",
        "    nn.Linear(input_layer, hidden_layer_1),\n",
        "    nn.Tanh(),\n",
        "    nn.Linear(hidden_layer_1, hidden_layer_2),\n",
        "    nn.Tanh(),\n",
        "    nn.Linear(hidden_layer_2, hidden_layer_3),\n",
        "    nn.Tanh(),\n",
        "    nn.Linear(hidden_layer_3, hidden_layer_4),\n",
        "    nn.Tanh(),\n",
        "    nn.Linear(hidden_layer_4, output_layer)\n",
        ")\n",
        "print(model_lrelu)\n",
        "print(model_tanh)"
      ]
    },
    {
      "cell_type": "markdown",
      "metadata": {
        "id": "3P1fzs0P4Anx"
      },
      "source": [
        "### Training \n",
        "\n",
        "Train these two models with the same hyperparameters. Train in separate cells given below, and report the same metrics descrived previously (train_loss, val_loss, train_acc, val_acc)"
      ]
    },
    {
      "cell_type": "code",
      "execution_count": 19,
      "metadata": {
        "colab": {
          "base_uri": "https://localhost:8080/"
        },
        "id": "-OAT_Rx64T0a",
        "outputId": "0e5da06e-894f-4567-c559-cc9ad675c5f1"
      },
      "outputs": [
        {
          "output_type": "stream",
          "name": "stdout",
          "text": [
            "Iteration no.:   0. Training Set Loss: 0.3124,  Validation Set Loss: 0.2631\n",
            "Iteration no.:   0. Training Set Accuracy: 93.8020,  Validation Set Accuracy: 92.5100\n",
            "---------------------------------------------------------------------------------\n",
            "Iteration no.:   1. Training Set Loss: 0.2008,  Validation Set Loss: 0.1943\n",
            "Iteration no.:   1. Training Set Accuracy: 95.8420,  Validation Set Accuracy: 94.8500\n",
            "---------------------------------------------------------------------------------\n",
            "Iteration no.:   2. Training Set Loss: 0.1759,  Validation Set Loss: 0.2328\n",
            "Iteration no.:   2. Training Set Accuracy: 95.7700,  Validation Set Accuracy: 94.7100\n",
            "---------------------------------------------------------------------------------\n",
            "Iteration no.:   3. Training Set Loss: 0.1599,  Validation Set Loss: 0.2138\n",
            "Iteration no.:   3. Training Set Accuracy: 96.2860,  Validation Set Accuracy: 95.1600\n",
            "---------------------------------------------------------------------------------\n",
            "Iteration no.:   4. Training Set Loss: 0.1410,  Validation Set Loss: 0.1736\n",
            "Iteration no.:   4. Training Set Accuracy: 96.6680,  Validation Set Accuracy: 95.4000\n",
            "---------------------------------------------------------------------------------\n",
            "Iteration no.:   5. Training Set Loss: 0.1186,  Validation Set Loss: 0.1817\n",
            "Iteration no.:   5. Training Set Accuracy: 97.3600,  Validation Set Accuracy: 96.1000\n",
            "---------------------------------------------------------------------------------\n",
            "Iteration no.:   6. Training Set Loss: 0.1116,  Validation Set Loss: 0.1996\n",
            "Iteration no.:   6. Training Set Accuracy: 97.0560,  Validation Set Accuracy: 95.3300\n",
            "---------------------------------------------------------------------------------\n",
            "Iteration no.:   7. Training Set Loss: 0.1045,  Validation Set Loss: 0.1727\n",
            "Iteration no.:   7. Training Set Accuracy: 97.2520,  Validation Set Accuracy: 95.7500\n",
            "---------------------------------------------------------------------------------\n",
            "Iteration no.:   8. Training Set Loss: 0.0996,  Validation Set Loss: 0.1974\n",
            "Iteration no.:   8. Training Set Accuracy: 96.8260,  Validation Set Accuracy: 95.2200\n",
            "---------------------------------------------------------------------------------\n",
            "Iteration no.:   9. Training Set Loss: 0.1298,  Validation Set Loss: 0.1773\n",
            "Iteration no.:   9. Training Set Accuracy: 97.6760,  Validation Set Accuracy: 95.9300\n",
            "---------------------------------------------------------------------------------\n",
            "Iteration no.:  10. Training Set Loss: 0.0928,  Validation Set Loss: 0.2088\n",
            "Iteration no.:  10. Training Set Accuracy: 96.9320,  Validation Set Accuracy: 95.2800\n",
            "---------------------------------------------------------------------------------\n",
            "Iteration no.:  11. Training Set Loss: 0.1441,  Validation Set Loss: 0.2701\n",
            "Iteration no.:  11. Training Set Accuracy: 96.5560,  Validation Set Accuracy: 95.0300\n",
            "---------------------------------------------------------------------------------\n",
            "Iteration no.:  12. Training Set Loss: 0.0940,  Validation Set Loss: 0.2014\n",
            "Iteration no.:  12. Training Set Accuracy: 98.2460,  Validation Set Accuracy: 96.3200\n",
            "---------------------------------------------------------------------------------\n",
            "Iteration no.:  13. Training Set Loss: 0.0772,  Validation Set Loss: 0.2182\n",
            "Iteration no.:  13. Training Set Accuracy: 97.1140,  Validation Set Accuracy: 95.4000\n",
            "---------------------------------------------------------------------------------\n",
            "Iteration no.:  14. Training Set Loss: 0.1943,  Validation Set Loss: 0.4205\n",
            "Iteration no.:  14. Training Set Accuracy: 95.6840,  Validation Set Accuracy: 93.9300\n",
            "---------------------------------------------------------------------------------\n"
          ]
        }
      ],
      "source": [
        "# Training Loop for LRELU\n",
        "model = model_lrelu\n",
        "model.to(device)\n",
        "epoch_losses, validation_losses, epoch_accuracies, validation_accuracies = train_model(model,device)"
      ]
    },
    {
      "cell_type": "code",
      "execution_count": 20,
      "metadata": {
        "colab": {
          "base_uri": "https://localhost:8080/"
        },
        "id": "QuobAEP44Wrz",
        "outputId": "1d18a57e-df37-4496-c5a1-427d6a8ab73a"
      },
      "outputs": [
        {
          "output_type": "stream",
          "name": "stdout",
          "text": [
            "Iteration no.:   0. Training Set Loss: 0.3809,  Validation Set Loss: 0.3106\n",
            "Iteration no.:   0. Training Set Accuracy: 91.7980,  Validation Set Accuracy: 91.0100\n",
            "---------------------------------------------------------------------------------\n",
            "Iteration no.:   1. Training Set Loss: 0.2716,  Validation Set Loss: 0.3376\n",
            "Iteration no.:   1. Training Set Accuracy: 92.0940,  Validation Set Accuracy: 91.1200\n",
            "---------------------------------------------------------------------------------\n",
            "Iteration no.:   2. Training Set Loss: 0.2967,  Validation Set Loss: 0.2738\n",
            "Iteration no.:   2. Training Set Accuracy: 93.0980,  Validation Set Accuracy: 92.2600\n",
            "---------------------------------------------------------------------------------\n",
            "Iteration no.:   3. Training Set Loss: 0.2859,  Validation Set Loss: 0.2761\n",
            "Iteration no.:   3. Training Set Accuracy: 93.7380,  Validation Set Accuracy: 92.8200\n",
            "---------------------------------------------------------------------------------\n",
            "Iteration no.:   4. Training Set Loss: 0.2790,  Validation Set Loss: 0.3321\n",
            "Iteration no.:   4. Training Set Accuracy: 92.4100,  Validation Set Accuracy: 91.3000\n",
            "---------------------------------------------------------------------------------\n",
            "Iteration no.:   5. Training Set Loss: 0.2751,  Validation Set Loss: 0.3173\n",
            "Iteration no.:   5. Training Set Accuracy: 93.0080,  Validation Set Accuracy: 91.6900\n",
            "---------------------------------------------------------------------------------\n",
            "Iteration no.:   6. Training Set Loss: 0.2948,  Validation Set Loss: 0.3211\n",
            "Iteration no.:   6. Training Set Accuracy: 92.9880,  Validation Set Accuracy: 92.3900\n",
            "---------------------------------------------------------------------------------\n",
            "Iteration no.:   7. Training Set Loss: 0.2822,  Validation Set Loss: 0.3275\n",
            "Iteration no.:   7. Training Set Accuracy: 92.1820,  Validation Set Accuracy: 91.6200\n",
            "---------------------------------------------------------------------------------\n",
            "Iteration no.:   8. Training Set Loss: 0.2879,  Validation Set Loss: 0.3683\n",
            "Iteration no.:   8. Training Set Accuracy: 92.1520,  Validation Set Accuracy: 91.4200\n",
            "---------------------------------------------------------------------------------\n",
            "Iteration no.:   9. Training Set Loss: 0.2942,  Validation Set Loss: 0.3336\n",
            "Iteration no.:   9. Training Set Accuracy: 92.7700,  Validation Set Accuracy: 91.7400\n",
            "---------------------------------------------------------------------------------\n",
            "Iteration no.:  10. Training Set Loss: 0.2834,  Validation Set Loss: 0.3849\n",
            "Iteration no.:  10. Training Set Accuracy: 91.8980,  Validation Set Accuracy: 90.6000\n",
            "---------------------------------------------------------------------------------\n",
            "Iteration no.:  11. Training Set Loss: 0.2801,  Validation Set Loss: 0.3002\n",
            "Iteration no.:  11. Training Set Accuracy: 93.3060,  Validation Set Accuracy: 92.6700\n",
            "---------------------------------------------------------------------------------\n",
            "Iteration no.:  12. Training Set Loss: 0.2750,  Validation Set Loss: 0.2861\n",
            "Iteration no.:  12. Training Set Accuracy: 94.4520,  Validation Set Accuracy: 93.1100\n",
            "---------------------------------------------------------------------------------\n",
            "Iteration no.:  13. Training Set Loss: 0.2734,  Validation Set Loss: 0.3328\n",
            "Iteration no.:  13. Training Set Accuracy: 91.9640,  Validation Set Accuracy: 91.1100\n",
            "---------------------------------------------------------------------------------\n",
            "Iteration no.:  14. Training Set Loss: 0.3019,  Validation Set Loss: 0.3117\n",
            "Iteration no.:  14. Training Set Accuracy: 92.1860,  Validation Set Accuracy: 91.3000\n",
            "---------------------------------------------------------------------------------\n"
          ]
        }
      ],
      "source": [
        "# Training Loop for TanH\n",
        "model = model_tanh\n",
        "model.to(device)\n",
        "epoch_losses, validation_losses, epoch_accuracies, validation_accuracies = train_model(model,device)"
      ]
    },
    {
      "cell_type": "markdown",
      "metadata": {
        "id": "WjH0LdKA4tYW"
      },
      "source": [
        "### Results on Test Set\n",
        "\n",
        "Report the Test Set classfication accuracy for the three activation functions (ReLU, LeakyReLU & TanH) and state which activation function gave the best performance on test set"
      ]
    },
    {
      "cell_type": "code",
      "execution_count": 21,
      "metadata": {
        "id": "gFeLvSrN4vT_"
      },
      "outputs": [],
      "source": [
        "# Define how to calculate Accuracy on Test Set\n",
        "def calc_test_set_accuracy(model):\n",
        "  model.to(device)\n",
        "  accuracy_test = calc_accuracy(test_loader, model, test_data)\n",
        "  print(f\"Test Set Accuracy: {accuracy_test:.4f}\")"
      ]
    },
    {
      "cell_type": "code",
      "execution_count": 22,
      "metadata": {
        "colab": {
          "base_uri": "https://localhost:8080/"
        },
        "id": "q8dhJf4W7cKu",
        "outputId": "6fffc137-28b2-4006-920a-5f42c16a7dd7"
      },
      "outputs": [
        {
          "output_type": "stream",
          "name": "stdout",
          "text": [
            "Test Set Accuracy: 96.7300\n"
          ]
        }
      ],
      "source": [
        "# Accuracy of RELU model\n",
        "calc_test_set_accuracy(model=model_relu)"
      ]
    },
    {
      "cell_type": "code",
      "execution_count": 23,
      "metadata": {
        "colab": {
          "base_uri": "https://localhost:8080/"
        },
        "id": "Uouc_R9t7cV3",
        "outputId": "4c94ab80-3f21-4b32-d6a6-fe8b5b5c7055"
      },
      "outputs": [
        {
          "output_type": "stream",
          "name": "stdout",
          "text": [
            "Test Set Accuracy: 91.7900\n"
          ]
        }
      ],
      "source": [
        "# Accuracy of TanH model\n",
        "calc_test_set_accuracy(model = model_tanh)"
      ]
    },
    {
      "cell_type": "code",
      "execution_count": 24,
      "metadata": {
        "colab": {
          "base_uri": "https://localhost:8080/"
        },
        "id": "tjLBwh577chM",
        "outputId": "10e94c75-fc85-489a-893c-11df1c3eb195"
      },
      "outputs": [
        {
          "output_type": "stream",
          "name": "stdout",
          "text": [
            "Test Set Accuracy: 94.6200\n"
          ]
        }
      ],
      "source": [
        "# Accuracy of LeakyReLU model\n",
        "calc_test_set_accuracy(model = model_lrelu)"
      ]
    },
    {
      "cell_type": "markdown",
      "metadata": {
        "id": "5xelRHJV7Lmj"
      },
      "source": [
        "Fill in these with the values you obtained from training.\n",
        "\n",
        "* ReLU model Test Set Accuracy: `96.7300` %\n",
        "* TanH model Test Set Accuracy: `91.7900` %\n",
        "* LeakReLU model Test Set Accuracy: `94.6200` %"
      ]
    }
  ],
  "metadata": {
    "accelerator": "GPU",
    "colab": {
      "provenance": []
    },
    "gpuClass": "standard",
    "kernelspec": {
      "display_name": "Python 3",
      "name": "python3"
    },
    "language_info": {
      "name": "python"
    },
    "nteract": {
      "version": "nteract-front-end@1.0.0"
    },
    "widgets": {
      "application/vnd.jupyter.widget-state+json": {
        "eb5940d2e60e4d95a6a9a334406d2542": {
          "model_module": "@jupyter-widgets/controls",
          "model_name": "HBoxModel",
          "model_module_version": "1.5.0",
          "state": {
            "_dom_classes": [],
            "_model_module": "@jupyter-widgets/controls",
            "_model_module_version": "1.5.0",
            "_model_name": "HBoxModel",
            "_view_count": null,
            "_view_module": "@jupyter-widgets/controls",
            "_view_module_version": "1.5.0",
            "_view_name": "HBoxView",
            "box_style": "",
            "children": [
              "IPY_MODEL_256b617f7a744bbb84a8755c220d2941",
              "IPY_MODEL_caa35409ed0e4fba8c162840e5c0b9ac",
              "IPY_MODEL_92729e85bfc84b789c9d87648793984a"
            ],
            "layout": "IPY_MODEL_b190d9491bea46d389cc0fa729dfefad"
          }
        },
        "256b617f7a744bbb84a8755c220d2941": {
          "model_module": "@jupyter-widgets/controls",
          "model_name": "HTMLModel",
          "model_module_version": "1.5.0",
          "state": {
            "_dom_classes": [],
            "_model_module": "@jupyter-widgets/controls",
            "_model_module_version": "1.5.0",
            "_model_name": "HTMLModel",
            "_view_count": null,
            "_view_module": "@jupyter-widgets/controls",
            "_view_module_version": "1.5.0",
            "_view_name": "HTMLView",
            "description": "",
            "description_tooltip": null,
            "layout": "IPY_MODEL_94c49ed306c04131a8ba8c96730f08d7",
            "placeholder": "​",
            "style": "IPY_MODEL_6d365a5da16d4d65a02e0299afc77582",
            "value": "100%"
          }
        },
        "caa35409ed0e4fba8c162840e5c0b9ac": {
          "model_module": "@jupyter-widgets/controls",
          "model_name": "FloatProgressModel",
          "model_module_version": "1.5.0",
          "state": {
            "_dom_classes": [],
            "_model_module": "@jupyter-widgets/controls",
            "_model_module_version": "1.5.0",
            "_model_name": "FloatProgressModel",
            "_view_count": null,
            "_view_module": "@jupyter-widgets/controls",
            "_view_module_version": "1.5.0",
            "_view_name": "ProgressView",
            "bar_style": "success",
            "description": "",
            "description_tooltip": null,
            "layout": "IPY_MODEL_1468bd4ed3454b15bb80246b5d065c37",
            "max": 9912422,
            "min": 0,
            "orientation": "horizontal",
            "style": "IPY_MODEL_92f432a7a29b44f0ad30c930c24d901a",
            "value": 9912422
          }
        },
        "92729e85bfc84b789c9d87648793984a": {
          "model_module": "@jupyter-widgets/controls",
          "model_name": "HTMLModel",
          "model_module_version": "1.5.0",
          "state": {
            "_dom_classes": [],
            "_model_module": "@jupyter-widgets/controls",
            "_model_module_version": "1.5.0",
            "_model_name": "HTMLModel",
            "_view_count": null,
            "_view_module": "@jupyter-widgets/controls",
            "_view_module_version": "1.5.0",
            "_view_name": "HTMLView",
            "description": "",
            "description_tooltip": null,
            "layout": "IPY_MODEL_1a0e384d9970438f9cd3aa6b8facd48f",
            "placeholder": "​",
            "style": "IPY_MODEL_c1b9f25e3df84243b9f64622ade5993f",
            "value": " 9912422/9912422 [00:00&lt;00:00, 9158867.93it/s]"
          }
        },
        "b190d9491bea46d389cc0fa729dfefad": {
          "model_module": "@jupyter-widgets/base",
          "model_name": "LayoutModel",
          "model_module_version": "1.2.0",
          "state": {
            "_model_module": "@jupyter-widgets/base",
            "_model_module_version": "1.2.0",
            "_model_name": "LayoutModel",
            "_view_count": null,
            "_view_module": "@jupyter-widgets/base",
            "_view_module_version": "1.2.0",
            "_view_name": "LayoutView",
            "align_content": null,
            "align_items": null,
            "align_self": null,
            "border": null,
            "bottom": null,
            "display": null,
            "flex": null,
            "flex_flow": null,
            "grid_area": null,
            "grid_auto_columns": null,
            "grid_auto_flow": null,
            "grid_auto_rows": null,
            "grid_column": null,
            "grid_gap": null,
            "grid_row": null,
            "grid_template_areas": null,
            "grid_template_columns": null,
            "grid_template_rows": null,
            "height": null,
            "justify_content": null,
            "justify_items": null,
            "left": null,
            "margin": null,
            "max_height": null,
            "max_width": null,
            "min_height": null,
            "min_width": null,
            "object_fit": null,
            "object_position": null,
            "order": null,
            "overflow": null,
            "overflow_x": null,
            "overflow_y": null,
            "padding": null,
            "right": null,
            "top": null,
            "visibility": null,
            "width": null
          }
        },
        "94c49ed306c04131a8ba8c96730f08d7": {
          "model_module": "@jupyter-widgets/base",
          "model_name": "LayoutModel",
          "model_module_version": "1.2.0",
          "state": {
            "_model_module": "@jupyter-widgets/base",
            "_model_module_version": "1.2.0",
            "_model_name": "LayoutModel",
            "_view_count": null,
            "_view_module": "@jupyter-widgets/base",
            "_view_module_version": "1.2.0",
            "_view_name": "LayoutView",
            "align_content": null,
            "align_items": null,
            "align_self": null,
            "border": null,
            "bottom": null,
            "display": null,
            "flex": null,
            "flex_flow": null,
            "grid_area": null,
            "grid_auto_columns": null,
            "grid_auto_flow": null,
            "grid_auto_rows": null,
            "grid_column": null,
            "grid_gap": null,
            "grid_row": null,
            "grid_template_areas": null,
            "grid_template_columns": null,
            "grid_template_rows": null,
            "height": null,
            "justify_content": null,
            "justify_items": null,
            "left": null,
            "margin": null,
            "max_height": null,
            "max_width": null,
            "min_height": null,
            "min_width": null,
            "object_fit": null,
            "object_position": null,
            "order": null,
            "overflow": null,
            "overflow_x": null,
            "overflow_y": null,
            "padding": null,
            "right": null,
            "top": null,
            "visibility": null,
            "width": null
          }
        },
        "6d365a5da16d4d65a02e0299afc77582": {
          "model_module": "@jupyter-widgets/controls",
          "model_name": "DescriptionStyleModel",
          "model_module_version": "1.5.0",
          "state": {
            "_model_module": "@jupyter-widgets/controls",
            "_model_module_version": "1.5.0",
            "_model_name": "DescriptionStyleModel",
            "_view_count": null,
            "_view_module": "@jupyter-widgets/base",
            "_view_module_version": "1.2.0",
            "_view_name": "StyleView",
            "description_width": ""
          }
        },
        "1468bd4ed3454b15bb80246b5d065c37": {
          "model_module": "@jupyter-widgets/base",
          "model_name": "LayoutModel",
          "model_module_version": "1.2.0",
          "state": {
            "_model_module": "@jupyter-widgets/base",
            "_model_module_version": "1.2.0",
            "_model_name": "LayoutModel",
            "_view_count": null,
            "_view_module": "@jupyter-widgets/base",
            "_view_module_version": "1.2.0",
            "_view_name": "LayoutView",
            "align_content": null,
            "align_items": null,
            "align_self": null,
            "border": null,
            "bottom": null,
            "display": null,
            "flex": null,
            "flex_flow": null,
            "grid_area": null,
            "grid_auto_columns": null,
            "grid_auto_flow": null,
            "grid_auto_rows": null,
            "grid_column": null,
            "grid_gap": null,
            "grid_row": null,
            "grid_template_areas": null,
            "grid_template_columns": null,
            "grid_template_rows": null,
            "height": null,
            "justify_content": null,
            "justify_items": null,
            "left": null,
            "margin": null,
            "max_height": null,
            "max_width": null,
            "min_height": null,
            "min_width": null,
            "object_fit": null,
            "object_position": null,
            "order": null,
            "overflow": null,
            "overflow_x": null,
            "overflow_y": null,
            "padding": null,
            "right": null,
            "top": null,
            "visibility": null,
            "width": null
          }
        },
        "92f432a7a29b44f0ad30c930c24d901a": {
          "model_module": "@jupyter-widgets/controls",
          "model_name": "ProgressStyleModel",
          "model_module_version": "1.5.0",
          "state": {
            "_model_module": "@jupyter-widgets/controls",
            "_model_module_version": "1.5.0",
            "_model_name": "ProgressStyleModel",
            "_view_count": null,
            "_view_module": "@jupyter-widgets/base",
            "_view_module_version": "1.2.0",
            "_view_name": "StyleView",
            "bar_color": null,
            "description_width": ""
          }
        },
        "1a0e384d9970438f9cd3aa6b8facd48f": {
          "model_module": "@jupyter-widgets/base",
          "model_name": "LayoutModel",
          "model_module_version": "1.2.0",
          "state": {
            "_model_module": "@jupyter-widgets/base",
            "_model_module_version": "1.2.0",
            "_model_name": "LayoutModel",
            "_view_count": null,
            "_view_module": "@jupyter-widgets/base",
            "_view_module_version": "1.2.0",
            "_view_name": "LayoutView",
            "align_content": null,
            "align_items": null,
            "align_self": null,
            "border": null,
            "bottom": null,
            "display": null,
            "flex": null,
            "flex_flow": null,
            "grid_area": null,
            "grid_auto_columns": null,
            "grid_auto_flow": null,
            "grid_auto_rows": null,
            "grid_column": null,
            "grid_gap": null,
            "grid_row": null,
            "grid_template_areas": null,
            "grid_template_columns": null,
            "grid_template_rows": null,
            "height": null,
            "justify_content": null,
            "justify_items": null,
            "left": null,
            "margin": null,
            "max_height": null,
            "max_width": null,
            "min_height": null,
            "min_width": null,
            "object_fit": null,
            "object_position": null,
            "order": null,
            "overflow": null,
            "overflow_x": null,
            "overflow_y": null,
            "padding": null,
            "right": null,
            "top": null,
            "visibility": null,
            "width": null
          }
        },
        "c1b9f25e3df84243b9f64622ade5993f": {
          "model_module": "@jupyter-widgets/controls",
          "model_name": "DescriptionStyleModel",
          "model_module_version": "1.5.0",
          "state": {
            "_model_module": "@jupyter-widgets/controls",
            "_model_module_version": "1.5.0",
            "_model_name": "DescriptionStyleModel",
            "_view_count": null,
            "_view_module": "@jupyter-widgets/base",
            "_view_module_version": "1.2.0",
            "_view_name": "StyleView",
            "description_width": ""
          }
        },
        "239050c3fa284f65a21172df2dd0f18c": {
          "model_module": "@jupyter-widgets/controls",
          "model_name": "HBoxModel",
          "model_module_version": "1.5.0",
          "state": {
            "_dom_classes": [],
            "_model_module": "@jupyter-widgets/controls",
            "_model_module_version": "1.5.0",
            "_model_name": "HBoxModel",
            "_view_count": null,
            "_view_module": "@jupyter-widgets/controls",
            "_view_module_version": "1.5.0",
            "_view_name": "HBoxView",
            "box_style": "",
            "children": [
              "IPY_MODEL_7d53541966db497d97af90501bfe992c",
              "IPY_MODEL_1a6bc0f2b3364b56876068106c25db6a",
              "IPY_MODEL_391244d347754f54b62237497a80d0f6"
            ],
            "layout": "IPY_MODEL_db5baedcfbb34fae9fd2b27df223355e"
          }
        },
        "7d53541966db497d97af90501bfe992c": {
          "model_module": "@jupyter-widgets/controls",
          "model_name": "HTMLModel",
          "model_module_version": "1.5.0",
          "state": {
            "_dom_classes": [],
            "_model_module": "@jupyter-widgets/controls",
            "_model_module_version": "1.5.0",
            "_model_name": "HTMLModel",
            "_view_count": null,
            "_view_module": "@jupyter-widgets/controls",
            "_view_module_version": "1.5.0",
            "_view_name": "HTMLView",
            "description": "",
            "description_tooltip": null,
            "layout": "IPY_MODEL_c9bb4942ecec404da36c3480477c4fec",
            "placeholder": "​",
            "style": "IPY_MODEL_0f143944a48f427ca89279b39ab56004",
            "value": "100%"
          }
        },
        "1a6bc0f2b3364b56876068106c25db6a": {
          "model_module": "@jupyter-widgets/controls",
          "model_name": "FloatProgressModel",
          "model_module_version": "1.5.0",
          "state": {
            "_dom_classes": [],
            "_model_module": "@jupyter-widgets/controls",
            "_model_module_version": "1.5.0",
            "_model_name": "FloatProgressModel",
            "_view_count": null,
            "_view_module": "@jupyter-widgets/controls",
            "_view_module_version": "1.5.0",
            "_view_name": "ProgressView",
            "bar_style": "success",
            "description": "",
            "description_tooltip": null,
            "layout": "IPY_MODEL_40e9f437cb7146a7a770524960f72530",
            "max": 28881,
            "min": 0,
            "orientation": "horizontal",
            "style": "IPY_MODEL_53cc507835f245fb998f29486b35d03b",
            "value": 28881
          }
        },
        "391244d347754f54b62237497a80d0f6": {
          "model_module": "@jupyter-widgets/controls",
          "model_name": "HTMLModel",
          "model_module_version": "1.5.0",
          "state": {
            "_dom_classes": [],
            "_model_module": "@jupyter-widgets/controls",
            "_model_module_version": "1.5.0",
            "_model_name": "HTMLModel",
            "_view_count": null,
            "_view_module": "@jupyter-widgets/controls",
            "_view_module_version": "1.5.0",
            "_view_name": "HTMLView",
            "description": "",
            "description_tooltip": null,
            "layout": "IPY_MODEL_bcb55703cf9d44c79d676c7c2c6c8049",
            "placeholder": "​",
            "style": "IPY_MODEL_cde7fa09a8154b6e899044a3ed19a9e3",
            "value": " 28881/28881 [00:00&lt;00:00, 1407654.34it/s]"
          }
        },
        "db5baedcfbb34fae9fd2b27df223355e": {
          "model_module": "@jupyter-widgets/base",
          "model_name": "LayoutModel",
          "model_module_version": "1.2.0",
          "state": {
            "_model_module": "@jupyter-widgets/base",
            "_model_module_version": "1.2.0",
            "_model_name": "LayoutModel",
            "_view_count": null,
            "_view_module": "@jupyter-widgets/base",
            "_view_module_version": "1.2.0",
            "_view_name": "LayoutView",
            "align_content": null,
            "align_items": null,
            "align_self": null,
            "border": null,
            "bottom": null,
            "display": null,
            "flex": null,
            "flex_flow": null,
            "grid_area": null,
            "grid_auto_columns": null,
            "grid_auto_flow": null,
            "grid_auto_rows": null,
            "grid_column": null,
            "grid_gap": null,
            "grid_row": null,
            "grid_template_areas": null,
            "grid_template_columns": null,
            "grid_template_rows": null,
            "height": null,
            "justify_content": null,
            "justify_items": null,
            "left": null,
            "margin": null,
            "max_height": null,
            "max_width": null,
            "min_height": null,
            "min_width": null,
            "object_fit": null,
            "object_position": null,
            "order": null,
            "overflow": null,
            "overflow_x": null,
            "overflow_y": null,
            "padding": null,
            "right": null,
            "top": null,
            "visibility": null,
            "width": null
          }
        },
        "c9bb4942ecec404da36c3480477c4fec": {
          "model_module": "@jupyter-widgets/base",
          "model_name": "LayoutModel",
          "model_module_version": "1.2.0",
          "state": {
            "_model_module": "@jupyter-widgets/base",
            "_model_module_version": "1.2.0",
            "_model_name": "LayoutModel",
            "_view_count": null,
            "_view_module": "@jupyter-widgets/base",
            "_view_module_version": "1.2.0",
            "_view_name": "LayoutView",
            "align_content": null,
            "align_items": null,
            "align_self": null,
            "border": null,
            "bottom": null,
            "display": null,
            "flex": null,
            "flex_flow": null,
            "grid_area": null,
            "grid_auto_columns": null,
            "grid_auto_flow": null,
            "grid_auto_rows": null,
            "grid_column": null,
            "grid_gap": null,
            "grid_row": null,
            "grid_template_areas": null,
            "grid_template_columns": null,
            "grid_template_rows": null,
            "height": null,
            "justify_content": null,
            "justify_items": null,
            "left": null,
            "margin": null,
            "max_height": null,
            "max_width": null,
            "min_height": null,
            "min_width": null,
            "object_fit": null,
            "object_position": null,
            "order": null,
            "overflow": null,
            "overflow_x": null,
            "overflow_y": null,
            "padding": null,
            "right": null,
            "top": null,
            "visibility": null,
            "width": null
          }
        },
        "0f143944a48f427ca89279b39ab56004": {
          "model_module": "@jupyter-widgets/controls",
          "model_name": "DescriptionStyleModel",
          "model_module_version": "1.5.0",
          "state": {
            "_model_module": "@jupyter-widgets/controls",
            "_model_module_version": "1.5.0",
            "_model_name": "DescriptionStyleModel",
            "_view_count": null,
            "_view_module": "@jupyter-widgets/base",
            "_view_module_version": "1.2.0",
            "_view_name": "StyleView",
            "description_width": ""
          }
        },
        "40e9f437cb7146a7a770524960f72530": {
          "model_module": "@jupyter-widgets/base",
          "model_name": "LayoutModel",
          "model_module_version": "1.2.0",
          "state": {
            "_model_module": "@jupyter-widgets/base",
            "_model_module_version": "1.2.0",
            "_model_name": "LayoutModel",
            "_view_count": null,
            "_view_module": "@jupyter-widgets/base",
            "_view_module_version": "1.2.0",
            "_view_name": "LayoutView",
            "align_content": null,
            "align_items": null,
            "align_self": null,
            "border": null,
            "bottom": null,
            "display": null,
            "flex": null,
            "flex_flow": null,
            "grid_area": null,
            "grid_auto_columns": null,
            "grid_auto_flow": null,
            "grid_auto_rows": null,
            "grid_column": null,
            "grid_gap": null,
            "grid_row": null,
            "grid_template_areas": null,
            "grid_template_columns": null,
            "grid_template_rows": null,
            "height": null,
            "justify_content": null,
            "justify_items": null,
            "left": null,
            "margin": null,
            "max_height": null,
            "max_width": null,
            "min_height": null,
            "min_width": null,
            "object_fit": null,
            "object_position": null,
            "order": null,
            "overflow": null,
            "overflow_x": null,
            "overflow_y": null,
            "padding": null,
            "right": null,
            "top": null,
            "visibility": null,
            "width": null
          }
        },
        "53cc507835f245fb998f29486b35d03b": {
          "model_module": "@jupyter-widgets/controls",
          "model_name": "ProgressStyleModel",
          "model_module_version": "1.5.0",
          "state": {
            "_model_module": "@jupyter-widgets/controls",
            "_model_module_version": "1.5.0",
            "_model_name": "ProgressStyleModel",
            "_view_count": null,
            "_view_module": "@jupyter-widgets/base",
            "_view_module_version": "1.2.0",
            "_view_name": "StyleView",
            "bar_color": null,
            "description_width": ""
          }
        },
        "bcb55703cf9d44c79d676c7c2c6c8049": {
          "model_module": "@jupyter-widgets/base",
          "model_name": "LayoutModel",
          "model_module_version": "1.2.0",
          "state": {
            "_model_module": "@jupyter-widgets/base",
            "_model_module_version": "1.2.0",
            "_model_name": "LayoutModel",
            "_view_count": null,
            "_view_module": "@jupyter-widgets/base",
            "_view_module_version": "1.2.0",
            "_view_name": "LayoutView",
            "align_content": null,
            "align_items": null,
            "align_self": null,
            "border": null,
            "bottom": null,
            "display": null,
            "flex": null,
            "flex_flow": null,
            "grid_area": null,
            "grid_auto_columns": null,
            "grid_auto_flow": null,
            "grid_auto_rows": null,
            "grid_column": null,
            "grid_gap": null,
            "grid_row": null,
            "grid_template_areas": null,
            "grid_template_columns": null,
            "grid_template_rows": null,
            "height": null,
            "justify_content": null,
            "justify_items": null,
            "left": null,
            "margin": null,
            "max_height": null,
            "max_width": null,
            "min_height": null,
            "min_width": null,
            "object_fit": null,
            "object_position": null,
            "order": null,
            "overflow": null,
            "overflow_x": null,
            "overflow_y": null,
            "padding": null,
            "right": null,
            "top": null,
            "visibility": null,
            "width": null
          }
        },
        "cde7fa09a8154b6e899044a3ed19a9e3": {
          "model_module": "@jupyter-widgets/controls",
          "model_name": "DescriptionStyleModel",
          "model_module_version": "1.5.0",
          "state": {
            "_model_module": "@jupyter-widgets/controls",
            "_model_module_version": "1.5.0",
            "_model_name": "DescriptionStyleModel",
            "_view_count": null,
            "_view_module": "@jupyter-widgets/base",
            "_view_module_version": "1.2.0",
            "_view_name": "StyleView",
            "description_width": ""
          }
        },
        "d6b0d399b81b40789c5617fe52fd23cb": {
          "model_module": "@jupyter-widgets/controls",
          "model_name": "HBoxModel",
          "model_module_version": "1.5.0",
          "state": {
            "_dom_classes": [],
            "_model_module": "@jupyter-widgets/controls",
            "_model_module_version": "1.5.0",
            "_model_name": "HBoxModel",
            "_view_count": null,
            "_view_module": "@jupyter-widgets/controls",
            "_view_module_version": "1.5.0",
            "_view_name": "HBoxView",
            "box_style": "",
            "children": [
              "IPY_MODEL_47c7d4a78d9e443b87be3009ff69449d",
              "IPY_MODEL_783bdd52248b45bbb101fc4603a01f1a",
              "IPY_MODEL_f25568d51cce45f6abc2c32460b3b80e"
            ],
            "layout": "IPY_MODEL_58a0e102f923475f968e608651773b53"
          }
        },
        "47c7d4a78d9e443b87be3009ff69449d": {
          "model_module": "@jupyter-widgets/controls",
          "model_name": "HTMLModel",
          "model_module_version": "1.5.0",
          "state": {
            "_dom_classes": [],
            "_model_module": "@jupyter-widgets/controls",
            "_model_module_version": "1.5.0",
            "_model_name": "HTMLModel",
            "_view_count": null,
            "_view_module": "@jupyter-widgets/controls",
            "_view_module_version": "1.5.0",
            "_view_name": "HTMLView",
            "description": "",
            "description_tooltip": null,
            "layout": "IPY_MODEL_a595f601271843dab820d06b7e504273",
            "placeholder": "​",
            "style": "IPY_MODEL_7cccf45609dc46f6ba26cfe517497c7d",
            "value": "100%"
          }
        },
        "783bdd52248b45bbb101fc4603a01f1a": {
          "model_module": "@jupyter-widgets/controls",
          "model_name": "FloatProgressModel",
          "model_module_version": "1.5.0",
          "state": {
            "_dom_classes": [],
            "_model_module": "@jupyter-widgets/controls",
            "_model_module_version": "1.5.0",
            "_model_name": "FloatProgressModel",
            "_view_count": null,
            "_view_module": "@jupyter-widgets/controls",
            "_view_module_version": "1.5.0",
            "_view_name": "ProgressView",
            "bar_style": "success",
            "description": "",
            "description_tooltip": null,
            "layout": "IPY_MODEL_bf02c7a350fc4e6fad7518e1778b5d2e",
            "max": 1648877,
            "min": 0,
            "orientation": "horizontal",
            "style": "IPY_MODEL_53245f1d2f174b528a6b01fa02208db7",
            "value": 1648877
          }
        },
        "f25568d51cce45f6abc2c32460b3b80e": {
          "model_module": "@jupyter-widgets/controls",
          "model_name": "HTMLModel",
          "model_module_version": "1.5.0",
          "state": {
            "_dom_classes": [],
            "_model_module": "@jupyter-widgets/controls",
            "_model_module_version": "1.5.0",
            "_model_name": "HTMLModel",
            "_view_count": null,
            "_view_module": "@jupyter-widgets/controls",
            "_view_module_version": "1.5.0",
            "_view_name": "HTMLView",
            "description": "",
            "description_tooltip": null,
            "layout": "IPY_MODEL_bba8282297354efb833a0da18a4e9d21",
            "placeholder": "​",
            "style": "IPY_MODEL_9918e07800b04be5b5b6182bb4340150",
            "value": " 1648877/1648877 [00:00&lt;00:00, 8449342.41it/s]"
          }
        },
        "58a0e102f923475f968e608651773b53": {
          "model_module": "@jupyter-widgets/base",
          "model_name": "LayoutModel",
          "model_module_version": "1.2.0",
          "state": {
            "_model_module": "@jupyter-widgets/base",
            "_model_module_version": "1.2.0",
            "_model_name": "LayoutModel",
            "_view_count": null,
            "_view_module": "@jupyter-widgets/base",
            "_view_module_version": "1.2.0",
            "_view_name": "LayoutView",
            "align_content": null,
            "align_items": null,
            "align_self": null,
            "border": null,
            "bottom": null,
            "display": null,
            "flex": null,
            "flex_flow": null,
            "grid_area": null,
            "grid_auto_columns": null,
            "grid_auto_flow": null,
            "grid_auto_rows": null,
            "grid_column": null,
            "grid_gap": null,
            "grid_row": null,
            "grid_template_areas": null,
            "grid_template_columns": null,
            "grid_template_rows": null,
            "height": null,
            "justify_content": null,
            "justify_items": null,
            "left": null,
            "margin": null,
            "max_height": null,
            "max_width": null,
            "min_height": null,
            "min_width": null,
            "object_fit": null,
            "object_position": null,
            "order": null,
            "overflow": null,
            "overflow_x": null,
            "overflow_y": null,
            "padding": null,
            "right": null,
            "top": null,
            "visibility": null,
            "width": null
          }
        },
        "a595f601271843dab820d06b7e504273": {
          "model_module": "@jupyter-widgets/base",
          "model_name": "LayoutModel",
          "model_module_version": "1.2.0",
          "state": {
            "_model_module": "@jupyter-widgets/base",
            "_model_module_version": "1.2.0",
            "_model_name": "LayoutModel",
            "_view_count": null,
            "_view_module": "@jupyter-widgets/base",
            "_view_module_version": "1.2.0",
            "_view_name": "LayoutView",
            "align_content": null,
            "align_items": null,
            "align_self": null,
            "border": null,
            "bottom": null,
            "display": null,
            "flex": null,
            "flex_flow": null,
            "grid_area": null,
            "grid_auto_columns": null,
            "grid_auto_flow": null,
            "grid_auto_rows": null,
            "grid_column": null,
            "grid_gap": null,
            "grid_row": null,
            "grid_template_areas": null,
            "grid_template_columns": null,
            "grid_template_rows": null,
            "height": null,
            "justify_content": null,
            "justify_items": null,
            "left": null,
            "margin": null,
            "max_height": null,
            "max_width": null,
            "min_height": null,
            "min_width": null,
            "object_fit": null,
            "object_position": null,
            "order": null,
            "overflow": null,
            "overflow_x": null,
            "overflow_y": null,
            "padding": null,
            "right": null,
            "top": null,
            "visibility": null,
            "width": null
          }
        },
        "7cccf45609dc46f6ba26cfe517497c7d": {
          "model_module": "@jupyter-widgets/controls",
          "model_name": "DescriptionStyleModel",
          "model_module_version": "1.5.0",
          "state": {
            "_model_module": "@jupyter-widgets/controls",
            "_model_module_version": "1.5.0",
            "_model_name": "DescriptionStyleModel",
            "_view_count": null,
            "_view_module": "@jupyter-widgets/base",
            "_view_module_version": "1.2.0",
            "_view_name": "StyleView",
            "description_width": ""
          }
        },
        "bf02c7a350fc4e6fad7518e1778b5d2e": {
          "model_module": "@jupyter-widgets/base",
          "model_name": "LayoutModel",
          "model_module_version": "1.2.0",
          "state": {
            "_model_module": "@jupyter-widgets/base",
            "_model_module_version": "1.2.0",
            "_model_name": "LayoutModel",
            "_view_count": null,
            "_view_module": "@jupyter-widgets/base",
            "_view_module_version": "1.2.0",
            "_view_name": "LayoutView",
            "align_content": null,
            "align_items": null,
            "align_self": null,
            "border": null,
            "bottom": null,
            "display": null,
            "flex": null,
            "flex_flow": null,
            "grid_area": null,
            "grid_auto_columns": null,
            "grid_auto_flow": null,
            "grid_auto_rows": null,
            "grid_column": null,
            "grid_gap": null,
            "grid_row": null,
            "grid_template_areas": null,
            "grid_template_columns": null,
            "grid_template_rows": null,
            "height": null,
            "justify_content": null,
            "justify_items": null,
            "left": null,
            "margin": null,
            "max_height": null,
            "max_width": null,
            "min_height": null,
            "min_width": null,
            "object_fit": null,
            "object_position": null,
            "order": null,
            "overflow": null,
            "overflow_x": null,
            "overflow_y": null,
            "padding": null,
            "right": null,
            "top": null,
            "visibility": null,
            "width": null
          }
        },
        "53245f1d2f174b528a6b01fa02208db7": {
          "model_module": "@jupyter-widgets/controls",
          "model_name": "ProgressStyleModel",
          "model_module_version": "1.5.0",
          "state": {
            "_model_module": "@jupyter-widgets/controls",
            "_model_module_version": "1.5.0",
            "_model_name": "ProgressStyleModel",
            "_view_count": null,
            "_view_module": "@jupyter-widgets/base",
            "_view_module_version": "1.2.0",
            "_view_name": "StyleView",
            "bar_color": null,
            "description_width": ""
          }
        },
        "bba8282297354efb833a0da18a4e9d21": {
          "model_module": "@jupyter-widgets/base",
          "model_name": "LayoutModel",
          "model_module_version": "1.2.0",
          "state": {
            "_model_module": "@jupyter-widgets/base",
            "_model_module_version": "1.2.0",
            "_model_name": "LayoutModel",
            "_view_count": null,
            "_view_module": "@jupyter-widgets/base",
            "_view_module_version": "1.2.0",
            "_view_name": "LayoutView",
            "align_content": null,
            "align_items": null,
            "align_self": null,
            "border": null,
            "bottom": null,
            "display": null,
            "flex": null,
            "flex_flow": null,
            "grid_area": null,
            "grid_auto_columns": null,
            "grid_auto_flow": null,
            "grid_auto_rows": null,
            "grid_column": null,
            "grid_gap": null,
            "grid_row": null,
            "grid_template_areas": null,
            "grid_template_columns": null,
            "grid_template_rows": null,
            "height": null,
            "justify_content": null,
            "justify_items": null,
            "left": null,
            "margin": null,
            "max_height": null,
            "max_width": null,
            "min_height": null,
            "min_width": null,
            "object_fit": null,
            "object_position": null,
            "order": null,
            "overflow": null,
            "overflow_x": null,
            "overflow_y": null,
            "padding": null,
            "right": null,
            "top": null,
            "visibility": null,
            "width": null
          }
        },
        "9918e07800b04be5b5b6182bb4340150": {
          "model_module": "@jupyter-widgets/controls",
          "model_name": "DescriptionStyleModel",
          "model_module_version": "1.5.0",
          "state": {
            "_model_module": "@jupyter-widgets/controls",
            "_model_module_version": "1.5.0",
            "_model_name": "DescriptionStyleModel",
            "_view_count": null,
            "_view_module": "@jupyter-widgets/base",
            "_view_module_version": "1.2.0",
            "_view_name": "StyleView",
            "description_width": ""
          }
        },
        "ebb63ceafc2541a2af5b6e203f17b3d4": {
          "model_module": "@jupyter-widgets/controls",
          "model_name": "HBoxModel",
          "model_module_version": "1.5.0",
          "state": {
            "_dom_classes": [],
            "_model_module": "@jupyter-widgets/controls",
            "_model_module_version": "1.5.0",
            "_model_name": "HBoxModel",
            "_view_count": null,
            "_view_module": "@jupyter-widgets/controls",
            "_view_module_version": "1.5.0",
            "_view_name": "HBoxView",
            "box_style": "",
            "children": [
              "IPY_MODEL_9a26c7dcff2b4b6492d35d6694e12dd6",
              "IPY_MODEL_83ce916a8f2f4e30b978da8adf6696b5",
              "IPY_MODEL_d51038c4d338402baa8e7d4e0853520a"
            ],
            "layout": "IPY_MODEL_57d1df0fa12b4511ad29a9bc2f65230d"
          }
        },
        "9a26c7dcff2b4b6492d35d6694e12dd6": {
          "model_module": "@jupyter-widgets/controls",
          "model_name": "HTMLModel",
          "model_module_version": "1.5.0",
          "state": {
            "_dom_classes": [],
            "_model_module": "@jupyter-widgets/controls",
            "_model_module_version": "1.5.0",
            "_model_name": "HTMLModel",
            "_view_count": null,
            "_view_module": "@jupyter-widgets/controls",
            "_view_module_version": "1.5.0",
            "_view_name": "HTMLView",
            "description": "",
            "description_tooltip": null,
            "layout": "IPY_MODEL_d1241128616140678744cf41a530fb09",
            "placeholder": "​",
            "style": "IPY_MODEL_4dbf0b4b4386434abd959ee5414c026d",
            "value": "100%"
          }
        },
        "83ce916a8f2f4e30b978da8adf6696b5": {
          "model_module": "@jupyter-widgets/controls",
          "model_name": "FloatProgressModel",
          "model_module_version": "1.5.0",
          "state": {
            "_dom_classes": [],
            "_model_module": "@jupyter-widgets/controls",
            "_model_module_version": "1.5.0",
            "_model_name": "FloatProgressModel",
            "_view_count": null,
            "_view_module": "@jupyter-widgets/controls",
            "_view_module_version": "1.5.0",
            "_view_name": "ProgressView",
            "bar_style": "success",
            "description": "",
            "description_tooltip": null,
            "layout": "IPY_MODEL_8dbee70194fc44268a3b2cfd7e786533",
            "max": 4542,
            "min": 0,
            "orientation": "horizontal",
            "style": "IPY_MODEL_1069fb0952a94904922ac37b7a60d934",
            "value": 4542
          }
        },
        "d51038c4d338402baa8e7d4e0853520a": {
          "model_module": "@jupyter-widgets/controls",
          "model_name": "HTMLModel",
          "model_module_version": "1.5.0",
          "state": {
            "_dom_classes": [],
            "_model_module": "@jupyter-widgets/controls",
            "_model_module_version": "1.5.0",
            "_model_name": "HTMLModel",
            "_view_count": null,
            "_view_module": "@jupyter-widgets/controls",
            "_view_module_version": "1.5.0",
            "_view_name": "HTMLView",
            "description": "",
            "description_tooltip": null,
            "layout": "IPY_MODEL_bc614329d12e4a0ea0734fb7d025fa5b",
            "placeholder": "​",
            "style": "IPY_MODEL_ce2ef04a5e8e4318b20cfe4781d7d0b4",
            "value": " 4542/4542 [00:00&lt;00:00, 213281.63it/s]"
          }
        },
        "57d1df0fa12b4511ad29a9bc2f65230d": {
          "model_module": "@jupyter-widgets/base",
          "model_name": "LayoutModel",
          "model_module_version": "1.2.0",
          "state": {
            "_model_module": "@jupyter-widgets/base",
            "_model_module_version": "1.2.0",
            "_model_name": "LayoutModel",
            "_view_count": null,
            "_view_module": "@jupyter-widgets/base",
            "_view_module_version": "1.2.0",
            "_view_name": "LayoutView",
            "align_content": null,
            "align_items": null,
            "align_self": null,
            "border": null,
            "bottom": null,
            "display": null,
            "flex": null,
            "flex_flow": null,
            "grid_area": null,
            "grid_auto_columns": null,
            "grid_auto_flow": null,
            "grid_auto_rows": null,
            "grid_column": null,
            "grid_gap": null,
            "grid_row": null,
            "grid_template_areas": null,
            "grid_template_columns": null,
            "grid_template_rows": null,
            "height": null,
            "justify_content": null,
            "justify_items": null,
            "left": null,
            "margin": null,
            "max_height": null,
            "max_width": null,
            "min_height": null,
            "min_width": null,
            "object_fit": null,
            "object_position": null,
            "order": null,
            "overflow": null,
            "overflow_x": null,
            "overflow_y": null,
            "padding": null,
            "right": null,
            "top": null,
            "visibility": null,
            "width": null
          }
        },
        "d1241128616140678744cf41a530fb09": {
          "model_module": "@jupyter-widgets/base",
          "model_name": "LayoutModel",
          "model_module_version": "1.2.0",
          "state": {
            "_model_module": "@jupyter-widgets/base",
            "_model_module_version": "1.2.0",
            "_model_name": "LayoutModel",
            "_view_count": null,
            "_view_module": "@jupyter-widgets/base",
            "_view_module_version": "1.2.0",
            "_view_name": "LayoutView",
            "align_content": null,
            "align_items": null,
            "align_self": null,
            "border": null,
            "bottom": null,
            "display": null,
            "flex": null,
            "flex_flow": null,
            "grid_area": null,
            "grid_auto_columns": null,
            "grid_auto_flow": null,
            "grid_auto_rows": null,
            "grid_column": null,
            "grid_gap": null,
            "grid_row": null,
            "grid_template_areas": null,
            "grid_template_columns": null,
            "grid_template_rows": null,
            "height": null,
            "justify_content": null,
            "justify_items": null,
            "left": null,
            "margin": null,
            "max_height": null,
            "max_width": null,
            "min_height": null,
            "min_width": null,
            "object_fit": null,
            "object_position": null,
            "order": null,
            "overflow": null,
            "overflow_x": null,
            "overflow_y": null,
            "padding": null,
            "right": null,
            "top": null,
            "visibility": null,
            "width": null
          }
        },
        "4dbf0b4b4386434abd959ee5414c026d": {
          "model_module": "@jupyter-widgets/controls",
          "model_name": "DescriptionStyleModel",
          "model_module_version": "1.5.0",
          "state": {
            "_model_module": "@jupyter-widgets/controls",
            "_model_module_version": "1.5.0",
            "_model_name": "DescriptionStyleModel",
            "_view_count": null,
            "_view_module": "@jupyter-widgets/base",
            "_view_module_version": "1.2.0",
            "_view_name": "StyleView",
            "description_width": ""
          }
        },
        "8dbee70194fc44268a3b2cfd7e786533": {
          "model_module": "@jupyter-widgets/base",
          "model_name": "LayoutModel",
          "model_module_version": "1.2.0",
          "state": {
            "_model_module": "@jupyter-widgets/base",
            "_model_module_version": "1.2.0",
            "_model_name": "LayoutModel",
            "_view_count": null,
            "_view_module": "@jupyter-widgets/base",
            "_view_module_version": "1.2.0",
            "_view_name": "LayoutView",
            "align_content": null,
            "align_items": null,
            "align_self": null,
            "border": null,
            "bottom": null,
            "display": null,
            "flex": null,
            "flex_flow": null,
            "grid_area": null,
            "grid_auto_columns": null,
            "grid_auto_flow": null,
            "grid_auto_rows": null,
            "grid_column": null,
            "grid_gap": null,
            "grid_row": null,
            "grid_template_areas": null,
            "grid_template_columns": null,
            "grid_template_rows": null,
            "height": null,
            "justify_content": null,
            "justify_items": null,
            "left": null,
            "margin": null,
            "max_height": null,
            "max_width": null,
            "min_height": null,
            "min_width": null,
            "object_fit": null,
            "object_position": null,
            "order": null,
            "overflow": null,
            "overflow_x": null,
            "overflow_y": null,
            "padding": null,
            "right": null,
            "top": null,
            "visibility": null,
            "width": null
          }
        },
        "1069fb0952a94904922ac37b7a60d934": {
          "model_module": "@jupyter-widgets/controls",
          "model_name": "ProgressStyleModel",
          "model_module_version": "1.5.0",
          "state": {
            "_model_module": "@jupyter-widgets/controls",
            "_model_module_version": "1.5.0",
            "_model_name": "ProgressStyleModel",
            "_view_count": null,
            "_view_module": "@jupyter-widgets/base",
            "_view_module_version": "1.2.0",
            "_view_name": "StyleView",
            "bar_color": null,
            "description_width": ""
          }
        },
        "bc614329d12e4a0ea0734fb7d025fa5b": {
          "model_module": "@jupyter-widgets/base",
          "model_name": "LayoutModel",
          "model_module_version": "1.2.0",
          "state": {
            "_model_module": "@jupyter-widgets/base",
            "_model_module_version": "1.2.0",
            "_model_name": "LayoutModel",
            "_view_count": null,
            "_view_module": "@jupyter-widgets/base",
            "_view_module_version": "1.2.0",
            "_view_name": "LayoutView",
            "align_content": null,
            "align_items": null,
            "align_self": null,
            "border": null,
            "bottom": null,
            "display": null,
            "flex": null,
            "flex_flow": null,
            "grid_area": null,
            "grid_auto_columns": null,
            "grid_auto_flow": null,
            "grid_auto_rows": null,
            "grid_column": null,
            "grid_gap": null,
            "grid_row": null,
            "grid_template_areas": null,
            "grid_template_columns": null,
            "grid_template_rows": null,
            "height": null,
            "justify_content": null,
            "justify_items": null,
            "left": null,
            "margin": null,
            "max_height": null,
            "max_width": null,
            "min_height": null,
            "min_width": null,
            "object_fit": null,
            "object_position": null,
            "order": null,
            "overflow": null,
            "overflow_x": null,
            "overflow_y": null,
            "padding": null,
            "right": null,
            "top": null,
            "visibility": null,
            "width": null
          }
        },
        "ce2ef04a5e8e4318b20cfe4781d7d0b4": {
          "model_module": "@jupyter-widgets/controls",
          "model_name": "DescriptionStyleModel",
          "model_module_version": "1.5.0",
          "state": {
            "_model_module": "@jupyter-widgets/controls",
            "_model_module_version": "1.5.0",
            "_model_name": "DescriptionStyleModel",
            "_view_count": null,
            "_view_module": "@jupyter-widgets/base",
            "_view_module_version": "1.2.0",
            "_view_name": "StyleView",
            "description_width": ""
          }
        }
      }
    }
  },
  "nbformat": 4,
  "nbformat_minor": 0
}